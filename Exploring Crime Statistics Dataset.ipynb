{
 "cells": [
  {
   "cell_type": "markdown",
   "metadata": {},
   "source": [
    "# Exploring Crime Statistics Dataset\n",
    "\n",
    "### Task A: Data Exploration and Auditing\n",
    "First, in order to read the CSV file, do the plotting (for Task B), we have to import some libaries"
   ]
  },
  {
   "cell_type": "code",
   "execution_count": 1,
   "metadata": {},
   "outputs": [],
   "source": [
    "import pandas as pd\n",
    "import numpy as np\n",
    "import matplotlib.pyplot as plt \n",
    "%matplotlib inline"
   ]
  },
  {
   "cell_type": "code",
   "execution_count": 2,
   "metadata": {},
   "outputs": [],
   "source": [
    "crime = pd.read_csv(\"Crime_Statistics_SA_2014_2019.csv\")"
   ]
  },
  {
   "cell_type": "markdown",
   "metadata": {},
   "source": [
    "#### A1. Dataset size\n",
    "How many rows and columns exist in this dataset? \n",
    "\n",
    "To know how many rows and coloumns exist, we can use df.shape and the result will be in tuple (# of rows, # of columns)"
   ]
  },
  {
   "cell_type": "code",
   "execution_count": 3,
   "metadata": {},
   "outputs": [
    {
     "name": "stdout",
     "output_type": "stream",
     "text": [
      "(385296, 7)\n"
     ]
    }
   ],
   "source": [
    "print(crime.shape)"
   ]
  },
  {
   "cell_type": "markdown",
   "metadata": {},
   "source": [
    "We can check the answer by doing df.tail() as this code produces the last 5 rows of the dataset."
   ]
  },
  {
   "cell_type": "code",
   "execution_count": 4,
   "metadata": {},
   "outputs": [
    {
     "data": {
      "text/html": [
       "<div>\n",
       "<style scoped>\n",
       "    .dataframe tbody tr th:only-of-type {\n",
       "        vertical-align: middle;\n",
       "    }\n",
       "\n",
       "    .dataframe tbody tr th {\n",
       "        vertical-align: top;\n",
       "    }\n",
       "\n",
       "    .dataframe thead th {\n",
       "        text-align: right;\n",
       "    }\n",
       "</style>\n",
       "<table border=\"1\" class=\"dataframe\">\n",
       "  <thead>\n",
       "    <tr style=\"text-align: right;\">\n",
       "      <th></th>\n",
       "      <th>Reported Date</th>\n",
       "      <th>Suburb - Incident</th>\n",
       "      <th>Postcode - Incident</th>\n",
       "      <th>Offence Level 1 Description</th>\n",
       "      <th>Offence Level 2 Description</th>\n",
       "      <th>Offence Level 3 Description</th>\n",
       "      <th>Offence Count</th>\n",
       "    </tr>\n",
       "  </thead>\n",
       "  <tbody>\n",
       "    <tr>\n",
       "      <th>385291</th>\n",
       "      <td>2019-03-31</td>\n",
       "      <td>WOODS POINT</td>\n",
       "      <td>5253.0</td>\n",
       "      <td>OFFENCES AGAINST PROPERTY</td>\n",
       "      <td>SERIOUS CRIMINAL TRESPASS</td>\n",
       "      <td>SCT - Non Residence</td>\n",
       "      <td>1.0</td>\n",
       "    </tr>\n",
       "    <tr>\n",
       "      <th>385292</th>\n",
       "      <td>2019-03-31</td>\n",
       "      <td>WOODVILLE GARDENS</td>\n",
       "      <td>5012.0</td>\n",
       "      <td>OFFENCES AGAINST THE PERSON</td>\n",
       "      <td>ACTS INTENDED TO CAUSE INJURY</td>\n",
       "      <td>Serious Assault resulting in injury</td>\n",
       "      <td>1.0</td>\n",
       "    </tr>\n",
       "    <tr>\n",
       "      <th>385293</th>\n",
       "      <td>2019-03-31</td>\n",
       "      <td>WOODVILLE NORTH</td>\n",
       "      <td>5012.0</td>\n",
       "      <td>OFFENCES AGAINST PROPERTY</td>\n",
       "      <td>THEFT AND RELATED OFFENCES</td>\n",
       "      <td>Theft from motor vehicle</td>\n",
       "      <td>1.0</td>\n",
       "    </tr>\n",
       "    <tr>\n",
       "      <th>385294</th>\n",
       "      <td>2019-03-31</td>\n",
       "      <td>WYNN VALE</td>\n",
       "      <td>5127.0</td>\n",
       "      <td>OFFENCES AGAINST PROPERTY</td>\n",
       "      <td>SERIOUS CRIMINAL TRESPASS</td>\n",
       "      <td>SCT - Residence</td>\n",
       "      <td>1.0</td>\n",
       "    </tr>\n",
       "    <tr>\n",
       "      <th>385295</th>\n",
       "      <td>2019-03-31</td>\n",
       "      <td>WYNN VALE</td>\n",
       "      <td>5127.0</td>\n",
       "      <td>OFFENCES AGAINST PROPERTY</td>\n",
       "      <td>THEFT AND RELATED OFFENCES</td>\n",
       "      <td>Other theft</td>\n",
       "      <td>1.0</td>\n",
       "    </tr>\n",
       "  </tbody>\n",
       "</table>\n",
       "</div>"
      ],
      "text/plain": [
       "       Reported Date  Suburb - Incident Postcode - Incident  \\\n",
       "385291    2019-03-31        WOODS POINT              5253.0   \n",
       "385292    2019-03-31  WOODVILLE GARDENS              5012.0   \n",
       "385293    2019-03-31    WOODVILLE NORTH              5012.0   \n",
       "385294    2019-03-31          WYNN VALE              5127.0   \n",
       "385295    2019-03-31          WYNN VALE              5127.0   \n",
       "\n",
       "        Offence Level 1 Description    Offence Level 2 Description  \\\n",
       "385291    OFFENCES AGAINST PROPERTY      SERIOUS CRIMINAL TRESPASS   \n",
       "385292  OFFENCES AGAINST THE PERSON  ACTS INTENDED TO CAUSE INJURY   \n",
       "385293    OFFENCES AGAINST PROPERTY     THEFT AND RELATED OFFENCES   \n",
       "385294    OFFENCES AGAINST PROPERTY      SERIOUS CRIMINAL TRESPASS   \n",
       "385295    OFFENCES AGAINST PROPERTY     THEFT AND RELATED OFFENCES   \n",
       "\n",
       "                Offence Level 3 Description  Offence Count  \n",
       "385291                  SCT - Non Residence            1.0  \n",
       "385292  Serious Assault resulting in injury            1.0  \n",
       "385293             Theft from motor vehicle            1.0  \n",
       "385294                      SCT - Residence            1.0  \n",
       "385295                          Other theft            1.0  "
      ]
     },
     "execution_count": 4,
     "metadata": {},
     "output_type": "execute_result"
    }
   ],
   "source": [
    "crime.tail()"
   ]
  },
  {
   "cell_type": "markdown",
   "metadata": {},
   "source": [
    "#### A2. Null values in the dataset\n",
    "Are there any null values in this dataset? \n",
    "\n",
    "To check if there are any null values in the dataset, we can use count_nonzero command from numpy libary combined with df.isnull()"
   ]
  },
  {
   "cell_type": "code",
   "execution_count": 5,
   "metadata": {},
   "outputs": [
    {
     "name": "stdout",
     "output_type": "stream",
     "text": [
      "562\n"
     ]
    }
   ],
   "source": [
    "print(np.count_nonzero(crime.isnull().values))"
   ]
  },
  {
   "cell_type": "markdown",
   "metadata": {},
   "source": [
    "Since the result is greater than 0, it is confirmed that there are 562 null values in the dataset.\n",
    "\n",
    "Hence, we have to solve these null values by using dropna() function from pandas library."
   ]
  },
  {
   "cell_type": "code",
   "execution_count": 6,
   "metadata": {},
   "outputs": [
    {
     "data": {
      "text/html": [
       "<div>\n",
       "<style scoped>\n",
       "    .dataframe tbody tr th:only-of-type {\n",
       "        vertical-align: middle;\n",
       "    }\n",
       "\n",
       "    .dataframe tbody tr th {\n",
       "        vertical-align: top;\n",
       "    }\n",
       "\n",
       "    .dataframe thead th {\n",
       "        text-align: right;\n",
       "    }\n",
       "</style>\n",
       "<table border=\"1\" class=\"dataframe\">\n",
       "  <thead>\n",
       "    <tr style=\"text-align: right;\">\n",
       "      <th></th>\n",
       "      <th>Reported Date</th>\n",
       "      <th>Suburb - Incident</th>\n",
       "      <th>Postcode - Incident</th>\n",
       "      <th>Offence Level 1 Description</th>\n",
       "      <th>Offence Level 2 Description</th>\n",
       "      <th>Offence Level 3 Description</th>\n",
       "      <th>Offence Count</th>\n",
       "    </tr>\n",
       "  </thead>\n",
       "  <tbody>\n",
       "    <tr>\n",
       "      <th>0</th>\n",
       "      <td>2014-01-01</td>\n",
       "      <td>ADELAIDE</td>\n",
       "      <td>5000</td>\n",
       "      <td>OFFENCES AGAINST PROPERTY</td>\n",
       "      <td>PROPERTY DAMAGE AND ENVIRONMENTAL</td>\n",
       "      <td>Other property damage and environmental</td>\n",
       "      <td>4.0</td>\n",
       "    </tr>\n",
       "    <tr>\n",
       "      <th>1</th>\n",
       "      <td>2014-01-01</td>\n",
       "      <td>ADELAIDE</td>\n",
       "      <td>5000</td>\n",
       "      <td>OFFENCES AGAINST PROPERTY</td>\n",
       "      <td>THEFT AND RELATED OFFENCES</td>\n",
       "      <td>Other theft</td>\n",
       "      <td>8.0</td>\n",
       "    </tr>\n",
       "    <tr>\n",
       "      <th>2</th>\n",
       "      <td>2014-01-01</td>\n",
       "      <td>ADELAIDE</td>\n",
       "      <td>5000</td>\n",
       "      <td>OFFENCES AGAINST THE PERSON</td>\n",
       "      <td>ACTS INTENDED TO CAUSE INJURY</td>\n",
       "      <td>Assault Police</td>\n",
       "      <td>2.0</td>\n",
       "    </tr>\n",
       "    <tr>\n",
       "      <th>3</th>\n",
       "      <td>2014-01-01</td>\n",
       "      <td>ADELAIDE</td>\n",
       "      <td>5000</td>\n",
       "      <td>OFFENCES AGAINST THE PERSON</td>\n",
       "      <td>ACTS INTENDED TO CAUSE INJURY</td>\n",
       "      <td>Common Assault</td>\n",
       "      <td>2.0</td>\n",
       "    </tr>\n",
       "    <tr>\n",
       "      <th>4</th>\n",
       "      <td>2014-01-01</td>\n",
       "      <td>ADELAIDE</td>\n",
       "      <td>5000</td>\n",
       "      <td>OFFENCES AGAINST THE PERSON</td>\n",
       "      <td>ACTS INTENDED TO CAUSE INJURY</td>\n",
       "      <td>Serious Assault not resulting in injury</td>\n",
       "      <td>4.0</td>\n",
       "    </tr>\n",
       "    <tr>\n",
       "      <th>5</th>\n",
       "      <td>2014-01-01</td>\n",
       "      <td>ADELAIDE</td>\n",
       "      <td>5000</td>\n",
       "      <td>OFFENCES AGAINST THE PERSON</td>\n",
       "      <td>ACTS INTENDED TO CAUSE INJURY</td>\n",
       "      <td>Serious Assault resulting in injury</td>\n",
       "      <td>1.0</td>\n",
       "    </tr>\n",
       "    <tr>\n",
       "      <th>6</th>\n",
       "      <td>2014-01-01</td>\n",
       "      <td>ADELAIDE</td>\n",
       "      <td>5000</td>\n",
       "      <td>OFFENCES AGAINST THE PERSON</td>\n",
       "      <td>ROBBERY AND RELATED OFFENCES</td>\n",
       "      <td>Non-aggravated robbery</td>\n",
       "      <td>1.0</td>\n",
       "    </tr>\n",
       "    <tr>\n",
       "      <th>7</th>\n",
       "      <td>2014-01-01</td>\n",
       "      <td>NOT DISCLOSED</td>\n",
       "      <td>NOT DISCLOSED</td>\n",
       "      <td>OFFENCES AGAINST THE PERSON</td>\n",
       "      <td>SEXUAL ASSAULT AND RELATED OFFENCES</td>\n",
       "      <td>Non-aggravated sexual assault</td>\n",
       "      <td>2.0</td>\n",
       "    </tr>\n",
       "    <tr>\n",
       "      <th>8</th>\n",
       "      <td>2014-01-01</td>\n",
       "      <td>ALBERTON</td>\n",
       "      <td>5014</td>\n",
       "      <td>OFFENCES AGAINST THE PERSON</td>\n",
       "      <td>OTHER OFFENCES AGAINST THE PERSON</td>\n",
       "      <td>Threatening behaviour</td>\n",
       "      <td>1.0</td>\n",
       "    </tr>\n",
       "    <tr>\n",
       "      <th>9</th>\n",
       "      <td>2014-01-01</td>\n",
       "      <td>ALBERT PARK</td>\n",
       "      <td>5014</td>\n",
       "      <td>OFFENCES AGAINST PROPERTY</td>\n",
       "      <td>PROPERTY DAMAGE AND ENVIRONMENTAL</td>\n",
       "      <td>Other property damage and environmental</td>\n",
       "      <td>1.0</td>\n",
       "    </tr>\n",
       "    <tr>\n",
       "      <th>10</th>\n",
       "      <td>2014-01-01</td>\n",
       "      <td>ALBERT PARK</td>\n",
       "      <td>5014</td>\n",
       "      <td>OFFENCES AGAINST THE PERSON</td>\n",
       "      <td>ACTS INTENDED TO CAUSE INJURY</td>\n",
       "      <td>Common Assault</td>\n",
       "      <td>1.0</td>\n",
       "    </tr>\n",
       "    <tr>\n",
       "      <th>11</th>\n",
       "      <td>2014-01-01</td>\n",
       "      <td>ALDINGA BEACH</td>\n",
       "      <td>5173</td>\n",
       "      <td>OFFENCES AGAINST PROPERTY</td>\n",
       "      <td>PROPERTY DAMAGE AND ENVIRONMENTAL</td>\n",
       "      <td>Graffiti</td>\n",
       "      <td>1.0</td>\n",
       "    </tr>\n",
       "    <tr>\n",
       "      <th>12</th>\n",
       "      <td>2014-01-01</td>\n",
       "      <td>ALDINGA BEACH</td>\n",
       "      <td>5173</td>\n",
       "      <td>OFFENCES AGAINST PROPERTY</td>\n",
       "      <td>PROPERTY DAMAGE AND ENVIRONMENTAL</td>\n",
       "      <td>Other property damage and environmental</td>\n",
       "      <td>1.0</td>\n",
       "    </tr>\n",
       "    <tr>\n",
       "      <th>13</th>\n",
       "      <td>2014-01-01</td>\n",
       "      <td>ALDINGA BEACH</td>\n",
       "      <td>5173</td>\n",
       "      <td>OFFENCES AGAINST PROPERTY</td>\n",
       "      <td>PROPERTY DAMAGE AND ENVIRONMENTAL</td>\n",
       "      <td>Property damage by fire or explosion</td>\n",
       "      <td>1.0</td>\n",
       "    </tr>\n",
       "    <tr>\n",
       "      <th>14</th>\n",
       "      <td>2014-01-01</td>\n",
       "      <td>ALDINGA BEACH</td>\n",
       "      <td>5173</td>\n",
       "      <td>OFFENCES AGAINST THE PERSON</td>\n",
       "      <td>ACTS INTENDED TO CAUSE INJURY</td>\n",
       "      <td>Common Assault</td>\n",
       "      <td>1.0</td>\n",
       "    </tr>\n",
       "    <tr>\n",
       "      <th>15</th>\n",
       "      <td>2014-01-01</td>\n",
       "      <td>ANDAMOOKA</td>\n",
       "      <td>5722</td>\n",
       "      <td>OFFENCES AGAINST THE PERSON</td>\n",
       "      <td>OTHER OFFENCES AGAINST THE PERSON</td>\n",
       "      <td>Dangerous or negligent acts</td>\n",
       "      <td>1.0</td>\n",
       "    </tr>\n",
       "    <tr>\n",
       "      <th>16</th>\n",
       "      <td>2014-01-01</td>\n",
       "      <td>ANDREWS FARM</td>\n",
       "      <td>5114</td>\n",
       "      <td>OFFENCES AGAINST PROPERTY</td>\n",
       "      <td>PROPERTY DAMAGE AND ENVIRONMENTAL</td>\n",
       "      <td>Property damage by fire or explosion</td>\n",
       "      <td>1.0</td>\n",
       "    </tr>\n",
       "    <tr>\n",
       "      <th>17</th>\n",
       "      <td>2014-01-01</td>\n",
       "      <td>ANDREWS FARM</td>\n",
       "      <td>5114</td>\n",
       "      <td>OFFENCES AGAINST PROPERTY</td>\n",
       "      <td>SERIOUS CRIMINAL TRESPASS</td>\n",
       "      <td>SCT - Residence</td>\n",
       "      <td>1.0</td>\n",
       "    </tr>\n",
       "    <tr>\n",
       "      <th>18</th>\n",
       "      <td>2014-01-01</td>\n",
       "      <td>ANDREWS FARM</td>\n",
       "      <td>5114</td>\n",
       "      <td>OFFENCES AGAINST THE PERSON</td>\n",
       "      <td>ACTS INTENDED TO CAUSE INJURY</td>\n",
       "      <td>Common Assault</td>\n",
       "      <td>1.0</td>\n",
       "    </tr>\n",
       "    <tr>\n",
       "      <th>19</th>\n",
       "      <td>2014-01-01</td>\n",
       "      <td>ASCOT PARK</td>\n",
       "      <td>5043</td>\n",
       "      <td>OFFENCES AGAINST PROPERTY</td>\n",
       "      <td>SERIOUS CRIMINAL TRESPASS</td>\n",
       "      <td>SCT - Residence</td>\n",
       "      <td>1.0</td>\n",
       "    </tr>\n",
       "    <tr>\n",
       "      <th>20</th>\n",
       "      <td>2014-01-01</td>\n",
       "      <td>ASCOT PARK</td>\n",
       "      <td>5043</td>\n",
       "      <td>OFFENCES AGAINST PROPERTY</td>\n",
       "      <td>THEFT AND RELATED OFFENCES</td>\n",
       "      <td>Theft/Illegal Use of MV</td>\n",
       "      <td>1.0</td>\n",
       "    </tr>\n",
       "    <tr>\n",
       "      <th>21</th>\n",
       "      <td>2014-01-01</td>\n",
       "      <td>ATHELSTONE</td>\n",
       "      <td>5076</td>\n",
       "      <td>OFFENCES AGAINST PROPERTY</td>\n",
       "      <td>PROPERTY DAMAGE AND ENVIRONMENTAL</td>\n",
       "      <td>Property damage by fire or explosion</td>\n",
       "      <td>1.0</td>\n",
       "    </tr>\n",
       "    <tr>\n",
       "      <th>22</th>\n",
       "      <td>2014-01-01</td>\n",
       "      <td>BARMERA</td>\n",
       "      <td>5345</td>\n",
       "      <td>OFFENCES AGAINST PROPERTY</td>\n",
       "      <td>PROPERTY DAMAGE AND ENVIRONMENTAL</td>\n",
       "      <td>Other property damage and environmental</td>\n",
       "      <td>1.0</td>\n",
       "    </tr>\n",
       "    <tr>\n",
       "      <th>23</th>\n",
       "      <td>2014-01-01</td>\n",
       "      <td>BERRI</td>\n",
       "      <td>5343</td>\n",
       "      <td>OFFENCES AGAINST PROPERTY</td>\n",
       "      <td>PROPERTY DAMAGE AND ENVIRONMENTAL</td>\n",
       "      <td>Other property damage and environmental</td>\n",
       "      <td>1.0</td>\n",
       "    </tr>\n",
       "    <tr>\n",
       "      <th>24</th>\n",
       "      <td>2014-01-01</td>\n",
       "      <td>BERRI</td>\n",
       "      <td>5343</td>\n",
       "      <td>OFFENCES AGAINST THE PERSON</td>\n",
       "      <td>ACTS INTENDED TO CAUSE INJURY</td>\n",
       "      <td>Common Assault</td>\n",
       "      <td>1.0</td>\n",
       "    </tr>\n",
       "    <tr>\n",
       "      <th>25</th>\n",
       "      <td>2014-01-01</td>\n",
       "      <td>BEVERLEY</td>\n",
       "      <td>5009</td>\n",
       "      <td>OFFENCES AGAINST PROPERTY</td>\n",
       "      <td>PROPERTY DAMAGE AND ENVIRONMENTAL</td>\n",
       "      <td>Property damage by fire or explosion</td>\n",
       "      <td>1.0</td>\n",
       "    </tr>\n",
       "    <tr>\n",
       "      <th>26</th>\n",
       "      <td>2014-01-01</td>\n",
       "      <td>BEVERLEY</td>\n",
       "      <td>5009</td>\n",
       "      <td>OFFENCES AGAINST THE PERSON</td>\n",
       "      <td>ROBBERY AND RELATED OFFENCES</td>\n",
       "      <td>Non-aggravated robbery</td>\n",
       "      <td>1.0</td>\n",
       "    </tr>\n",
       "    <tr>\n",
       "      <th>27</th>\n",
       "      <td>2014-01-01</td>\n",
       "      <td>BIRKENHEAD</td>\n",
       "      <td>5015</td>\n",
       "      <td>OFFENCES AGAINST PROPERTY</td>\n",
       "      <td>PROPERTY DAMAGE AND ENVIRONMENTAL</td>\n",
       "      <td>Other property damage and environmental</td>\n",
       "      <td>1.0</td>\n",
       "    </tr>\n",
       "    <tr>\n",
       "      <th>28</th>\n",
       "      <td>2014-01-01</td>\n",
       "      <td>BLACKWOOD</td>\n",
       "      <td>5051</td>\n",
       "      <td>OFFENCES AGAINST PROPERTY</td>\n",
       "      <td>PROPERTY DAMAGE AND ENVIRONMENTAL</td>\n",
       "      <td>Other property damage and environmental</td>\n",
       "      <td>1.0</td>\n",
       "    </tr>\n",
       "    <tr>\n",
       "      <th>29</th>\n",
       "      <td>2014-01-01</td>\n",
       "      <td>BLAKEVIEW</td>\n",
       "      <td>5114</td>\n",
       "      <td>OFFENCES AGAINST PROPERTY</td>\n",
       "      <td>PROPERTY DAMAGE AND ENVIRONMENTAL</td>\n",
       "      <td>Other property damage and environmental</td>\n",
       "      <td>1.0</td>\n",
       "    </tr>\n",
       "    <tr>\n",
       "      <th>...</th>\n",
       "      <td>...</td>\n",
       "      <td>...</td>\n",
       "      <td>...</td>\n",
       "      <td>...</td>\n",
       "      <td>...</td>\n",
       "      <td>...</td>\n",
       "      <td>...</td>\n",
       "    </tr>\n",
       "    <tr>\n",
       "      <th>385266</th>\n",
       "      <td>2019-03-31</td>\n",
       "      <td>TRANMERE</td>\n",
       "      <td>5073.0</td>\n",
       "      <td>OFFENCES AGAINST PROPERTY</td>\n",
       "      <td>SERIOUS CRIMINAL TRESPASS</td>\n",
       "      <td>SCT - Residence</td>\n",
       "      <td>1.0</td>\n",
       "    </tr>\n",
       "    <tr>\n",
       "      <th>385267</th>\n",
       "      <td>2019-03-31</td>\n",
       "      <td>TRANMERE</td>\n",
       "      <td>5073.0</td>\n",
       "      <td>OFFENCES AGAINST PROPERTY</td>\n",
       "      <td>THEFT AND RELATED OFFENCES</td>\n",
       "      <td>Other theft</td>\n",
       "      <td>1.0</td>\n",
       "    </tr>\n",
       "    <tr>\n",
       "      <th>385268</th>\n",
       "      <td>2019-03-31</td>\n",
       "      <td>TROTT PARK</td>\n",
       "      <td>5158.0</td>\n",
       "      <td>OFFENCES AGAINST THE PERSON</td>\n",
       "      <td>ACTS INTENDED TO CAUSE INJURY</td>\n",
       "      <td>Other acts intended to cause injury</td>\n",
       "      <td>1.0</td>\n",
       "    </tr>\n",
       "    <tr>\n",
       "      <th>385269</th>\n",
       "      <td>2019-03-31</td>\n",
       "      <td>TWO WELLS</td>\n",
       "      <td>5501.0</td>\n",
       "      <td>OFFENCES AGAINST PROPERTY</td>\n",
       "      <td>PROPERTY DAMAGE AND ENVIRONMENTAL</td>\n",
       "      <td>Other property damage and environmental</td>\n",
       "      <td>1.0</td>\n",
       "    </tr>\n",
       "    <tr>\n",
       "      <th>385270</th>\n",
       "      <td>2019-03-31</td>\n",
       "      <td>UNLEY</td>\n",
       "      <td>5061.0</td>\n",
       "      <td>OFFENCES AGAINST PROPERTY</td>\n",
       "      <td>THEFT AND RELATED OFFENCES</td>\n",
       "      <td>Other theft</td>\n",
       "      <td>1.0</td>\n",
       "    </tr>\n",
       "    <tr>\n",
       "      <th>385271</th>\n",
       "      <td>2019-03-31</td>\n",
       "      <td>VALE PARK</td>\n",
       "      <td>5081.0</td>\n",
       "      <td>OFFENCES AGAINST PROPERTY</td>\n",
       "      <td>THEFT AND RELATED OFFENCES</td>\n",
       "      <td>Theft from motor vehicle</td>\n",
       "      <td>1.0</td>\n",
       "    </tr>\n",
       "    <tr>\n",
       "      <th>385272</th>\n",
       "      <td>2019-03-31</td>\n",
       "      <td>VALLEY VIEW</td>\n",
       "      <td>5093.0</td>\n",
       "      <td>OFFENCES AGAINST PROPERTY</td>\n",
       "      <td>THEFT AND RELATED OFFENCES</td>\n",
       "      <td>Other theft</td>\n",
       "      <td>1.0</td>\n",
       "    </tr>\n",
       "    <tr>\n",
       "      <th>385273</th>\n",
       "      <td>2019-03-31</td>\n",
       "      <td>VICTOR HARBOR</td>\n",
       "      <td>5211.0</td>\n",
       "      <td>OFFENCES AGAINST PROPERTY</td>\n",
       "      <td>THEFT AND RELATED OFFENCES</td>\n",
       "      <td>Theft from shop</td>\n",
       "      <td>1.0</td>\n",
       "    </tr>\n",
       "    <tr>\n",
       "      <th>385274</th>\n",
       "      <td>2019-03-31</td>\n",
       "      <td>VICTOR HARBOR</td>\n",
       "      <td>5211.0</td>\n",
       "      <td>OFFENCES AGAINST THE PERSON</td>\n",
       "      <td>SEXUAL ASSAULT AND RELATED OFFENCES</td>\n",
       "      <td>Aggravated sexual assault</td>\n",
       "      <td>1.0</td>\n",
       "    </tr>\n",
       "    <tr>\n",
       "      <th>385275</th>\n",
       "      <td>2019-03-31</td>\n",
       "      <td>VIRGINIA</td>\n",
       "      <td>5120.0</td>\n",
       "      <td>OFFENCES AGAINST THE PERSON</td>\n",
       "      <td>ACTS INTENDED TO CAUSE INJURY</td>\n",
       "      <td>Common Assault</td>\n",
       "      <td>1.0</td>\n",
       "    </tr>\n",
       "    <tr>\n",
       "      <th>385276</th>\n",
       "      <td>2019-03-31</td>\n",
       "      <td>WALLAROO</td>\n",
       "      <td>5556.0</td>\n",
       "      <td>OFFENCES AGAINST PROPERTY</td>\n",
       "      <td>THEFT AND RELATED OFFENCES</td>\n",
       "      <td>Other theft</td>\n",
       "      <td>1.0</td>\n",
       "    </tr>\n",
       "    <tr>\n",
       "      <th>385277</th>\n",
       "      <td>2019-03-31</td>\n",
       "      <td>WARRADALE</td>\n",
       "      <td>5046.0</td>\n",
       "      <td>OFFENCES AGAINST PROPERTY</td>\n",
       "      <td>THEFT AND RELATED OFFENCES</td>\n",
       "      <td>Theft from motor vehicle</td>\n",
       "      <td>1.0</td>\n",
       "    </tr>\n",
       "    <tr>\n",
       "      <th>385278</th>\n",
       "      <td>2019-03-31</td>\n",
       "      <td>WARRADALE</td>\n",
       "      <td>5046.0</td>\n",
       "      <td>OFFENCES AGAINST THE PERSON</td>\n",
       "      <td>ACTS INTENDED TO CAUSE INJURY</td>\n",
       "      <td>Assault police</td>\n",
       "      <td>1.0</td>\n",
       "    </tr>\n",
       "    <tr>\n",
       "      <th>385279</th>\n",
       "      <td>2019-03-31</td>\n",
       "      <td>WEST CROYDON</td>\n",
       "      <td>5008.0</td>\n",
       "      <td>OFFENCES AGAINST PROPERTY</td>\n",
       "      <td>THEFT AND RELATED OFFENCES</td>\n",
       "      <td>Other theft</td>\n",
       "      <td>1.0</td>\n",
       "    </tr>\n",
       "    <tr>\n",
       "      <th>385280</th>\n",
       "      <td>2019-03-31</td>\n",
       "      <td>WEST LAKES</td>\n",
       "      <td>5021.0</td>\n",
       "      <td>OFFENCES AGAINST PROPERTY</td>\n",
       "      <td>THEFT AND RELATED OFFENCES</td>\n",
       "      <td>Theft from shop</td>\n",
       "      <td>1.0</td>\n",
       "    </tr>\n",
       "    <tr>\n",
       "      <th>385281</th>\n",
       "      <td>2019-03-31</td>\n",
       "      <td>WEST LAKES</td>\n",
       "      <td>5021.0</td>\n",
       "      <td>OFFENCES AGAINST PROPERTY</td>\n",
       "      <td>THEFT AND RELATED OFFENCES</td>\n",
       "      <td>Theft/Illegal Use of MV</td>\n",
       "      <td>1.0</td>\n",
       "    </tr>\n",
       "    <tr>\n",
       "      <th>385282</th>\n",
       "      <td>2019-03-31</td>\n",
       "      <td>WHYALLA NORRIE</td>\n",
       "      <td>5608.0</td>\n",
       "      <td>OFFENCES AGAINST PROPERTY</td>\n",
       "      <td>SERIOUS CRIMINAL TRESPASS</td>\n",
       "      <td>SCT - Residence</td>\n",
       "      <td>1.0</td>\n",
       "    </tr>\n",
       "    <tr>\n",
       "      <th>385283</th>\n",
       "      <td>2019-03-31</td>\n",
       "      <td>WHYALLA NORRIE</td>\n",
       "      <td>5608.0</td>\n",
       "      <td>OFFENCES AGAINST PROPERTY</td>\n",
       "      <td>THEFT AND RELATED OFFENCES</td>\n",
       "      <td>Receive or handle proceeds of crime</td>\n",
       "      <td>1.0</td>\n",
       "    </tr>\n",
       "    <tr>\n",
       "      <th>385284</th>\n",
       "      <td>2019-03-31</td>\n",
       "      <td>WHYALLA PLAYFORD</td>\n",
       "      <td>5600.0</td>\n",
       "      <td>OFFENCES AGAINST PROPERTY</td>\n",
       "      <td>THEFT AND RELATED OFFENCES</td>\n",
       "      <td>Other theft</td>\n",
       "      <td>1.0</td>\n",
       "    </tr>\n",
       "    <tr>\n",
       "      <th>385285</th>\n",
       "      <td>2019-03-31</td>\n",
       "      <td>WHYALLA STUART</td>\n",
       "      <td>5608.0</td>\n",
       "      <td>OFFENCES AGAINST PROPERTY</td>\n",
       "      <td>PROPERTY DAMAGE AND ENVIRONMENTAL</td>\n",
       "      <td>Other property damage and environmental</td>\n",
       "      <td>1.0</td>\n",
       "    </tr>\n",
       "    <tr>\n",
       "      <th>385286</th>\n",
       "      <td>2019-03-31</td>\n",
       "      <td>WILLASTON</td>\n",
       "      <td>5118.0</td>\n",
       "      <td>OFFENCES AGAINST PROPERTY</td>\n",
       "      <td>PROPERTY DAMAGE AND ENVIRONMENTAL</td>\n",
       "      <td>Property damage by fire or explosion</td>\n",
       "      <td>1.0</td>\n",
       "    </tr>\n",
       "    <tr>\n",
       "      <th>385287</th>\n",
       "      <td>2019-03-31</td>\n",
       "      <td>WINDSOR GARDENS</td>\n",
       "      <td>5087.0</td>\n",
       "      <td>OFFENCES AGAINST PROPERTY</td>\n",
       "      <td>SERIOUS CRIMINAL TRESPASS</td>\n",
       "      <td>SCT - Residence</td>\n",
       "      <td>1.0</td>\n",
       "    </tr>\n",
       "    <tr>\n",
       "      <th>385288</th>\n",
       "      <td>2019-03-31</td>\n",
       "      <td>WINDSOR GARDENS</td>\n",
       "      <td>5087.0</td>\n",
       "      <td>OFFENCES AGAINST PROPERTY</td>\n",
       "      <td>THEFT AND RELATED OFFENCES</td>\n",
       "      <td>Other theft</td>\n",
       "      <td>1.0</td>\n",
       "    </tr>\n",
       "    <tr>\n",
       "      <th>385289</th>\n",
       "      <td>2019-03-31</td>\n",
       "      <td>WINDSOR GARDENS</td>\n",
       "      <td>5087.0</td>\n",
       "      <td>OFFENCES AGAINST PROPERTY</td>\n",
       "      <td>THEFT AND RELATED OFFENCES</td>\n",
       "      <td>Theft from motor vehicle</td>\n",
       "      <td>1.0</td>\n",
       "    </tr>\n",
       "    <tr>\n",
       "      <th>385290</th>\n",
       "      <td>2019-03-31</td>\n",
       "      <td>WOODCROFT</td>\n",
       "      <td>5162.0</td>\n",
       "      <td>OFFENCES AGAINST PROPERTY</td>\n",
       "      <td>PROPERTY DAMAGE AND ENVIRONMENTAL</td>\n",
       "      <td>Other property damage and environmental</td>\n",
       "      <td>1.0</td>\n",
       "    </tr>\n",
       "    <tr>\n",
       "      <th>385291</th>\n",
       "      <td>2019-03-31</td>\n",
       "      <td>WOODS POINT</td>\n",
       "      <td>5253.0</td>\n",
       "      <td>OFFENCES AGAINST PROPERTY</td>\n",
       "      <td>SERIOUS CRIMINAL TRESPASS</td>\n",
       "      <td>SCT - Non Residence</td>\n",
       "      <td>1.0</td>\n",
       "    </tr>\n",
       "    <tr>\n",
       "      <th>385292</th>\n",
       "      <td>2019-03-31</td>\n",
       "      <td>WOODVILLE GARDENS</td>\n",
       "      <td>5012.0</td>\n",
       "      <td>OFFENCES AGAINST THE PERSON</td>\n",
       "      <td>ACTS INTENDED TO CAUSE INJURY</td>\n",
       "      <td>Serious Assault resulting in injury</td>\n",
       "      <td>1.0</td>\n",
       "    </tr>\n",
       "    <tr>\n",
       "      <th>385293</th>\n",
       "      <td>2019-03-31</td>\n",
       "      <td>WOODVILLE NORTH</td>\n",
       "      <td>5012.0</td>\n",
       "      <td>OFFENCES AGAINST PROPERTY</td>\n",
       "      <td>THEFT AND RELATED OFFENCES</td>\n",
       "      <td>Theft from motor vehicle</td>\n",
       "      <td>1.0</td>\n",
       "    </tr>\n",
       "    <tr>\n",
       "      <th>385294</th>\n",
       "      <td>2019-03-31</td>\n",
       "      <td>WYNN VALE</td>\n",
       "      <td>5127.0</td>\n",
       "      <td>OFFENCES AGAINST PROPERTY</td>\n",
       "      <td>SERIOUS CRIMINAL TRESPASS</td>\n",
       "      <td>SCT - Residence</td>\n",
       "      <td>1.0</td>\n",
       "    </tr>\n",
       "    <tr>\n",
       "      <th>385295</th>\n",
       "      <td>2019-03-31</td>\n",
       "      <td>WYNN VALE</td>\n",
       "      <td>5127.0</td>\n",
       "      <td>OFFENCES AGAINST PROPERTY</td>\n",
       "      <td>THEFT AND RELATED OFFENCES</td>\n",
       "      <td>Other theft</td>\n",
       "      <td>1.0</td>\n",
       "    </tr>\n",
       "  </tbody>\n",
       "</table>\n",
       "<p>385296 rows × 7 columns</p>\n",
       "</div>"
      ],
      "text/plain": [
       "       Reported Date  Suburb - Incident Postcode - Incident  \\\n",
       "0         2014-01-01           ADELAIDE                5000   \n",
       "1         2014-01-01           ADELAIDE                5000   \n",
       "2         2014-01-01           ADELAIDE                5000   \n",
       "3         2014-01-01           ADELAIDE                5000   \n",
       "4         2014-01-01           ADELAIDE                5000   \n",
       "5         2014-01-01           ADELAIDE                5000   \n",
       "6         2014-01-01           ADELAIDE                5000   \n",
       "7         2014-01-01      NOT DISCLOSED       NOT DISCLOSED   \n",
       "8         2014-01-01           ALBERTON                5014   \n",
       "9         2014-01-01        ALBERT PARK                5014   \n",
       "10        2014-01-01        ALBERT PARK                5014   \n",
       "11        2014-01-01      ALDINGA BEACH                5173   \n",
       "12        2014-01-01      ALDINGA BEACH                5173   \n",
       "13        2014-01-01      ALDINGA BEACH                5173   \n",
       "14        2014-01-01      ALDINGA BEACH                5173   \n",
       "15        2014-01-01          ANDAMOOKA                5722   \n",
       "16        2014-01-01       ANDREWS FARM                5114   \n",
       "17        2014-01-01       ANDREWS FARM                5114   \n",
       "18        2014-01-01       ANDREWS FARM                5114   \n",
       "19        2014-01-01         ASCOT PARK                5043   \n",
       "20        2014-01-01         ASCOT PARK                5043   \n",
       "21        2014-01-01         ATHELSTONE                5076   \n",
       "22        2014-01-01            BARMERA                5345   \n",
       "23        2014-01-01              BERRI                5343   \n",
       "24        2014-01-01              BERRI                5343   \n",
       "25        2014-01-01           BEVERLEY                5009   \n",
       "26        2014-01-01           BEVERLEY                5009   \n",
       "27        2014-01-01         BIRKENHEAD                5015   \n",
       "28        2014-01-01          BLACKWOOD                5051   \n",
       "29        2014-01-01          BLAKEVIEW                5114   \n",
       "...              ...                ...                 ...   \n",
       "385266    2019-03-31           TRANMERE              5073.0   \n",
       "385267    2019-03-31           TRANMERE              5073.0   \n",
       "385268    2019-03-31         TROTT PARK              5158.0   \n",
       "385269    2019-03-31          TWO WELLS              5501.0   \n",
       "385270    2019-03-31              UNLEY              5061.0   \n",
       "385271    2019-03-31          VALE PARK              5081.0   \n",
       "385272    2019-03-31        VALLEY VIEW              5093.0   \n",
       "385273    2019-03-31      VICTOR HARBOR              5211.0   \n",
       "385274    2019-03-31      VICTOR HARBOR              5211.0   \n",
       "385275    2019-03-31           VIRGINIA              5120.0   \n",
       "385276    2019-03-31           WALLAROO              5556.0   \n",
       "385277    2019-03-31          WARRADALE              5046.0   \n",
       "385278    2019-03-31          WARRADALE              5046.0   \n",
       "385279    2019-03-31       WEST CROYDON              5008.0   \n",
       "385280    2019-03-31         WEST LAKES              5021.0   \n",
       "385281    2019-03-31         WEST LAKES              5021.0   \n",
       "385282    2019-03-31     WHYALLA NORRIE              5608.0   \n",
       "385283    2019-03-31     WHYALLA NORRIE              5608.0   \n",
       "385284    2019-03-31   WHYALLA PLAYFORD              5600.0   \n",
       "385285    2019-03-31     WHYALLA STUART              5608.0   \n",
       "385286    2019-03-31          WILLASTON              5118.0   \n",
       "385287    2019-03-31    WINDSOR GARDENS              5087.0   \n",
       "385288    2019-03-31    WINDSOR GARDENS              5087.0   \n",
       "385289    2019-03-31    WINDSOR GARDENS              5087.0   \n",
       "385290    2019-03-31          WOODCROFT              5162.0   \n",
       "385291    2019-03-31        WOODS POINT              5253.0   \n",
       "385292    2019-03-31  WOODVILLE GARDENS              5012.0   \n",
       "385293    2019-03-31    WOODVILLE NORTH              5012.0   \n",
       "385294    2019-03-31          WYNN VALE              5127.0   \n",
       "385295    2019-03-31          WYNN VALE              5127.0   \n",
       "\n",
       "        Offence Level 1 Description          Offence Level 2 Description  \\\n",
       "0         OFFENCES AGAINST PROPERTY    PROPERTY DAMAGE AND ENVIRONMENTAL   \n",
       "1         OFFENCES AGAINST PROPERTY           THEFT AND RELATED OFFENCES   \n",
       "2       OFFENCES AGAINST THE PERSON        ACTS INTENDED TO CAUSE INJURY   \n",
       "3       OFFENCES AGAINST THE PERSON        ACTS INTENDED TO CAUSE INJURY   \n",
       "4       OFFENCES AGAINST THE PERSON        ACTS INTENDED TO CAUSE INJURY   \n",
       "5       OFFENCES AGAINST THE PERSON        ACTS INTENDED TO CAUSE INJURY   \n",
       "6       OFFENCES AGAINST THE PERSON         ROBBERY AND RELATED OFFENCES   \n",
       "7       OFFENCES AGAINST THE PERSON  SEXUAL ASSAULT AND RELATED OFFENCES   \n",
       "8       OFFENCES AGAINST THE PERSON    OTHER OFFENCES AGAINST THE PERSON   \n",
       "9         OFFENCES AGAINST PROPERTY    PROPERTY DAMAGE AND ENVIRONMENTAL   \n",
       "10      OFFENCES AGAINST THE PERSON        ACTS INTENDED TO CAUSE INJURY   \n",
       "11        OFFENCES AGAINST PROPERTY    PROPERTY DAMAGE AND ENVIRONMENTAL   \n",
       "12        OFFENCES AGAINST PROPERTY    PROPERTY DAMAGE AND ENVIRONMENTAL   \n",
       "13        OFFENCES AGAINST PROPERTY    PROPERTY DAMAGE AND ENVIRONMENTAL   \n",
       "14      OFFENCES AGAINST THE PERSON        ACTS INTENDED TO CAUSE INJURY   \n",
       "15      OFFENCES AGAINST THE PERSON    OTHER OFFENCES AGAINST THE PERSON   \n",
       "16        OFFENCES AGAINST PROPERTY    PROPERTY DAMAGE AND ENVIRONMENTAL   \n",
       "17        OFFENCES AGAINST PROPERTY            SERIOUS CRIMINAL TRESPASS   \n",
       "18      OFFENCES AGAINST THE PERSON        ACTS INTENDED TO CAUSE INJURY   \n",
       "19        OFFENCES AGAINST PROPERTY            SERIOUS CRIMINAL TRESPASS   \n",
       "20        OFFENCES AGAINST PROPERTY           THEFT AND RELATED OFFENCES   \n",
       "21        OFFENCES AGAINST PROPERTY    PROPERTY DAMAGE AND ENVIRONMENTAL   \n",
       "22        OFFENCES AGAINST PROPERTY    PROPERTY DAMAGE AND ENVIRONMENTAL   \n",
       "23        OFFENCES AGAINST PROPERTY    PROPERTY DAMAGE AND ENVIRONMENTAL   \n",
       "24      OFFENCES AGAINST THE PERSON        ACTS INTENDED TO CAUSE INJURY   \n",
       "25        OFFENCES AGAINST PROPERTY    PROPERTY DAMAGE AND ENVIRONMENTAL   \n",
       "26      OFFENCES AGAINST THE PERSON         ROBBERY AND RELATED OFFENCES   \n",
       "27        OFFENCES AGAINST PROPERTY    PROPERTY DAMAGE AND ENVIRONMENTAL   \n",
       "28        OFFENCES AGAINST PROPERTY    PROPERTY DAMAGE AND ENVIRONMENTAL   \n",
       "29        OFFENCES AGAINST PROPERTY    PROPERTY DAMAGE AND ENVIRONMENTAL   \n",
       "...                             ...                                  ...   \n",
       "385266    OFFENCES AGAINST PROPERTY            SERIOUS CRIMINAL TRESPASS   \n",
       "385267    OFFENCES AGAINST PROPERTY           THEFT AND RELATED OFFENCES   \n",
       "385268  OFFENCES AGAINST THE PERSON        ACTS INTENDED TO CAUSE INJURY   \n",
       "385269    OFFENCES AGAINST PROPERTY    PROPERTY DAMAGE AND ENVIRONMENTAL   \n",
       "385270    OFFENCES AGAINST PROPERTY           THEFT AND RELATED OFFENCES   \n",
       "385271    OFFENCES AGAINST PROPERTY           THEFT AND RELATED OFFENCES   \n",
       "385272    OFFENCES AGAINST PROPERTY           THEFT AND RELATED OFFENCES   \n",
       "385273    OFFENCES AGAINST PROPERTY           THEFT AND RELATED OFFENCES   \n",
       "385274  OFFENCES AGAINST THE PERSON  SEXUAL ASSAULT AND RELATED OFFENCES   \n",
       "385275  OFFENCES AGAINST THE PERSON        ACTS INTENDED TO CAUSE INJURY   \n",
       "385276    OFFENCES AGAINST PROPERTY           THEFT AND RELATED OFFENCES   \n",
       "385277    OFFENCES AGAINST PROPERTY           THEFT AND RELATED OFFENCES   \n",
       "385278  OFFENCES AGAINST THE PERSON        ACTS INTENDED TO CAUSE INJURY   \n",
       "385279    OFFENCES AGAINST PROPERTY           THEFT AND RELATED OFFENCES   \n",
       "385280    OFFENCES AGAINST PROPERTY           THEFT AND RELATED OFFENCES   \n",
       "385281    OFFENCES AGAINST PROPERTY           THEFT AND RELATED OFFENCES   \n",
       "385282    OFFENCES AGAINST PROPERTY            SERIOUS CRIMINAL TRESPASS   \n",
       "385283    OFFENCES AGAINST PROPERTY           THEFT AND RELATED OFFENCES   \n",
       "385284    OFFENCES AGAINST PROPERTY           THEFT AND RELATED OFFENCES   \n",
       "385285    OFFENCES AGAINST PROPERTY    PROPERTY DAMAGE AND ENVIRONMENTAL   \n",
       "385286    OFFENCES AGAINST PROPERTY    PROPERTY DAMAGE AND ENVIRONMENTAL   \n",
       "385287    OFFENCES AGAINST PROPERTY            SERIOUS CRIMINAL TRESPASS   \n",
       "385288    OFFENCES AGAINST PROPERTY           THEFT AND RELATED OFFENCES   \n",
       "385289    OFFENCES AGAINST PROPERTY           THEFT AND RELATED OFFENCES   \n",
       "385290    OFFENCES AGAINST PROPERTY    PROPERTY DAMAGE AND ENVIRONMENTAL   \n",
       "385291    OFFENCES AGAINST PROPERTY            SERIOUS CRIMINAL TRESPASS   \n",
       "385292  OFFENCES AGAINST THE PERSON        ACTS INTENDED TO CAUSE INJURY   \n",
       "385293    OFFENCES AGAINST PROPERTY           THEFT AND RELATED OFFENCES   \n",
       "385294    OFFENCES AGAINST PROPERTY            SERIOUS CRIMINAL TRESPASS   \n",
       "385295    OFFENCES AGAINST PROPERTY           THEFT AND RELATED OFFENCES   \n",
       "\n",
       "                    Offence Level 3 Description  Offence Count  \n",
       "0       Other property damage and environmental            4.0  \n",
       "1                                   Other theft            8.0  \n",
       "2                                Assault Police            2.0  \n",
       "3                                Common Assault            2.0  \n",
       "4       Serious Assault not resulting in injury            4.0  \n",
       "5           Serious Assault resulting in injury            1.0  \n",
       "6                        Non-aggravated robbery            1.0  \n",
       "7                 Non-aggravated sexual assault            2.0  \n",
       "8                         Threatening behaviour            1.0  \n",
       "9       Other property damage and environmental            1.0  \n",
       "10                               Common Assault            1.0  \n",
       "11                                     Graffiti            1.0  \n",
       "12      Other property damage and environmental            1.0  \n",
       "13         Property damage by fire or explosion            1.0  \n",
       "14                               Common Assault            1.0  \n",
       "15                  Dangerous or negligent acts            1.0  \n",
       "16         Property damage by fire or explosion            1.0  \n",
       "17                              SCT - Residence            1.0  \n",
       "18                               Common Assault            1.0  \n",
       "19                              SCT - Residence            1.0  \n",
       "20                      Theft/Illegal Use of MV            1.0  \n",
       "21         Property damage by fire or explosion            1.0  \n",
       "22      Other property damage and environmental            1.0  \n",
       "23      Other property damage and environmental            1.0  \n",
       "24                               Common Assault            1.0  \n",
       "25         Property damage by fire or explosion            1.0  \n",
       "26                       Non-aggravated robbery            1.0  \n",
       "27      Other property damage and environmental            1.0  \n",
       "28      Other property damage and environmental            1.0  \n",
       "29      Other property damage and environmental            1.0  \n",
       "...                                         ...            ...  \n",
       "385266                          SCT - Residence            1.0  \n",
       "385267                              Other theft            1.0  \n",
       "385268      Other acts intended to cause injury            1.0  \n",
       "385269  Other property damage and environmental            1.0  \n",
       "385270                              Other theft            1.0  \n",
       "385271                 Theft from motor vehicle            1.0  \n",
       "385272                              Other theft            1.0  \n",
       "385273                          Theft from shop            1.0  \n",
       "385274                Aggravated sexual assault            1.0  \n",
       "385275                           Common Assault            1.0  \n",
       "385276                              Other theft            1.0  \n",
       "385277                 Theft from motor vehicle            1.0  \n",
       "385278                           Assault police            1.0  \n",
       "385279                              Other theft            1.0  \n",
       "385280                          Theft from shop            1.0  \n",
       "385281                  Theft/Illegal Use of MV            1.0  \n",
       "385282                          SCT - Residence            1.0  \n",
       "385283      Receive or handle proceeds of crime            1.0  \n",
       "385284                              Other theft            1.0  \n",
       "385285  Other property damage and environmental            1.0  \n",
       "385286     Property damage by fire or explosion            1.0  \n",
       "385287                          SCT - Residence            1.0  \n",
       "385288                              Other theft            1.0  \n",
       "385289                 Theft from motor vehicle            1.0  \n",
       "385290  Other property damage and environmental            1.0  \n",
       "385291                      SCT - Non Residence            1.0  \n",
       "385292      Serious Assault resulting in injury            1.0  \n",
       "385293                 Theft from motor vehicle            1.0  \n",
       "385294                          SCT - Residence            1.0  \n",
       "385295                              Other theft            1.0  \n",
       "\n",
       "[385296 rows x 7 columns]"
      ]
     },
     "execution_count": 6,
     "metadata": {},
     "output_type": "execute_result"
    }
   ],
   "source": [
    "crime.dropna(how='all')"
   ]
  },
  {
   "cell_type": "markdown",
   "metadata": {},
   "source": [
    "#### A3. Data Types\n",
    "What are the min and max for column 'Reported Date' ? Does this column have the correct data type? If no, convert it to an appropriate data type.\n",
    "\n",
    "To know the min and max for column, we can check with df[column].min() and df[column].max() . Then, to check if the data type is correct we use dtypes() function. If it is not correct, we have to convert it to an appropiate data type."
   ]
  },
  {
   "cell_type": "code",
   "execution_count": 6,
   "metadata": {},
   "outputs": [
    {
     "name": "stdout",
     "output_type": "stream",
     "text": [
      "2014-01-01\n"
     ]
    }
   ],
   "source": [
    "print(crime['Reported Date'].min())"
   ]
  },
  {
   "cell_type": "code",
   "execution_count": 7,
   "metadata": {},
   "outputs": [
    {
     "name": "stdout",
     "output_type": "stream",
     "text": [
      "2019-12-03\n"
     ]
    }
   ],
   "source": [
    "print(crime['Reported Date'].max())"
   ]
  },
  {
   "cell_type": "code",
   "execution_count": 8,
   "metadata": {},
   "outputs": [
    {
     "name": "stdout",
     "output_type": "stream",
     "text": [
      "object\n"
     ]
    }
   ],
   "source": [
    "print(crime['Reported Date'].dtypes) #check the types of 'Reported Date' column"
   ]
  },
  {
   "cell_type": "code",
   "execution_count": 9,
   "metadata": {},
   "outputs": [
    {
     "name": "stdout",
     "output_type": "stream",
     "text": [
      "datetime64[ns]\n"
     ]
    },
    {
     "data": {
      "text/plain": [
       "0   2014-01-01\n",
       "1   2014-01-01\n",
       "2   2014-01-01\n",
       "3   2014-01-01\n",
       "4   2014-01-01\n",
       "Name: Reported Date, dtype: datetime64[ns]"
      ]
     },
     "execution_count": 9,
     "metadata": {},
     "output_type": "execute_result"
    }
   ],
   "source": [
    "crime['Reported Date'] = pd.to_datetime(crime['Reported Date']) #change to datetime format\n",
    "\n",
    "print(crime['Reported Date'].dtypes) #print its datatype now\n",
    "\n",
    "crime['Reported Date'].head() #check whether it looks the same as the other dataframe"
   ]
  },
  {
   "cell_type": "markdown",
   "metadata": {},
   "source": [
    "#### A4. Descriptive statistics\n",
    "Calculate the statistics for the \"Offence Count\" column (Find the count, mean, standard deviation,\n",
    "minimum and maximum).\n",
    "\n",
    "To calculate the statistics, we can just simply use describe() function from pandas library. Then to only displace count, mean, standard deviation, minimum and maximum we can \"filter\" it by using [[(what to be displayed]]."
   ]
  },
  {
   "cell_type": "code",
   "execution_count": 10,
   "metadata": {},
   "outputs": [
    {
     "name": "stdout",
     "output_type": "stream",
     "text": [
      "count    385296.000000\n",
      "mean          1.164871\n",
      "std           0.560723\n",
      "min           1.000000\n",
      "max          28.000000\n",
      "Name: Offence Count, dtype: float64\n"
     ]
    }
   ],
   "source": [
    "print(crime['Offence Count'].describe()[['count','mean','std','min','max']])"
   ]
  },
  {
   "cell_type": "markdown",
   "metadata": {},
   "source": [
    "#### A5. Exploring Offence Level 1 Description\n",
    "Now look at the Offence Level 1 Description column and answer the following questions\n",
    "1. How many unique values does \"Offence Level 1 Description\" column take?\n",
    "2. Display the unique values of level 1 offences.\n",
    "3. How many records do contain \"offences against the person\"\n",
    "4. What percentage of the records are \"offences against the property\"?\n",
    "\n",
    "\n",
    "To count and know unique values of \"Offence Level 1\", we can either use data aggregation or unique(column, return_counts = True) function from numpy library. However, to ease answering the questions, we can use unique() function. This function will produce 2 kinds of arrays; the unique values, and how many times the unique appears."
   ]
  },
  {
   "cell_type": "code",
   "execution_count": 11,
   "metadata": {},
   "outputs": [
    {
     "name": "stdout",
     "output_type": "stream",
     "text": [
      "['OFFENCES AGAINST PROPERTY' 'OFFENCES AGAINST THE PERSON']\n",
      "[298505  86791]\n",
      "{'OFFENCES AGAINST PROPERTY': 298505, 'OFFENCES AGAINST THE PERSON': 86791}\n"
     ]
    }
   ],
   "source": [
    "uniqueVal1, count1 = np.unique(crime['Offence Level 1 Description'],return_counts = True)\n",
    "\n",
    "uniqueVal1dict = {} #Making a dictionary of unique values of Offence Level 1 to ease answering question 2 and 3.\n",
    "\n",
    "for i in range(len(uniqueVal1)):\n",
    "    uniqueVal1dict[uniqueVal1[i]] = count1[i]\n",
    "\n",
    "print(uniqueVal1)\n",
    "print(count1)\n",
    "print(uniqueVal1dict)"
   ]
  },
  {
   "cell_type": "markdown",
   "metadata": {},
   "source": [
    "1. How many unique values does \"Offence Level 1 Description\" column take?"
   ]
  },
  {
   "cell_type": "code",
   "execution_count": 12,
   "metadata": {},
   "outputs": [
    {
     "data": {
      "text/plain": [
       "2"
      ]
     },
     "execution_count": 12,
     "metadata": {},
     "output_type": "execute_result"
    }
   ],
   "source": [
    "len(uniqueVal1)"
   ]
  },
  {
   "cell_type": "markdown",
   "metadata": {},
   "source": [
    "2. Display the unique values of level 1 offences."
   ]
  },
  {
   "cell_type": "code",
   "execution_count": 13,
   "metadata": {},
   "outputs": [
    {
     "name": "stdout",
     "output_type": "stream",
     "text": [
      "OFFENCES AGAINST PROPERTY\n",
      "OFFENCES AGAINST THE PERSON\n"
     ]
    }
   ],
   "source": [
    "for key in uniqueVal1dict:\n",
    "    print (key)"
   ]
  },
  {
   "cell_type": "markdown",
   "metadata": {},
   "source": [
    "3. How many records do contain \"offences against the person\"?"
   ]
  },
  {
   "cell_type": "code",
   "execution_count": 14,
   "metadata": {},
   "outputs": [
    {
     "name": "stdout",
     "output_type": "stream",
     "text": [
      "86791\n"
     ]
    }
   ],
   "source": [
    "print(uniqueVal1dict['OFFENCES AGAINST THE PERSON'])"
   ]
  },
  {
   "cell_type": "markdown",
   "metadata": {},
   "source": [
    "4. What percentage of the records are \"offences against the property\"?"
   ]
  },
  {
   "cell_type": "code",
   "execution_count": 15,
   "metadata": {},
   "outputs": [
    {
     "name": "stdout",
     "output_type": "stream",
     "text": [
      "77.47420165275528 %\n"
     ]
    }
   ],
   "source": [
    "totalCount = 0\n",
    "for key in uniqueVal1dict:\n",
    "    totalCount += uniqueVal1dict[key]\n",
    "print((uniqueVal1dict['OFFENCES AGAINST PROPERTY']/totalCount)*100,\"%\")"
   ]
  },
  {
   "cell_type": "markdown",
   "metadata": {},
   "source": [
    "#### A6. Exploring Offence Level 2 Description\n",
    "Now look at the Offence Level 2 Description column and answer the following questions\n",
    "1. How many unique values does \"Offence Level 2 Description\" column take? Display the unique values of level 2 offences together with their counts (i.e., how many times they have been repeated).\n",
    "2. How many serious criminal trespasses have occurred with more than 1 offence count?\n",
    "\n",
    "Again, to answer this question, we can either use data aggregatiation or unique() function from numpy library."
   ]
  },
  {
   "cell_type": "code",
   "execution_count": 16,
   "metadata": {},
   "outputs": [
    {
     "name": "stdout",
     "output_type": "stream",
     "text": [
      "['ACTS INTENDED TO CAUSE INJURY' 'FRAUD DECEPTION AND RELATED OFFENCES'\n",
      " 'HOMICIDE AND RELATED OFFENCES' 'OTHER OFFENCES AGAINST THE PERSON'\n",
      " 'PROPERTY DAMAGE AND ENVIRONMENTAL' 'ROBBERY AND RELATED OFFENCES'\n",
      " 'SERIOUS CRIMINAL TRESPASS' 'SEXUAL ASSAULT AND RELATED OFFENCES'\n",
      " 'THEFT AND RELATED OFFENCES']\n",
      "[ 63747  11644    226  12327  80047   2607  53888   7884 152926]\n",
      "{'ACTS INTENDED TO CAUSE INJURY': 63747, 'FRAUD DECEPTION AND RELATED OFFENCES': 11644, 'HOMICIDE AND RELATED OFFENCES': 226, 'OTHER OFFENCES AGAINST THE PERSON': 12327, 'PROPERTY DAMAGE AND ENVIRONMENTAL': 80047, 'ROBBERY AND RELATED OFFENCES': 2607, 'SERIOUS CRIMINAL TRESPASS': 53888, 'SEXUAL ASSAULT AND RELATED OFFENCES': 7884, 'THEFT AND RELATED OFFENCES': 152926}\n"
     ]
    }
   ],
   "source": [
    "uniqueVal2, count2 = np.unique(crime['Offence Level 2 Description'],return_counts = True)\n",
    "\n",
    "uniqueVal2dict = {} #Making a dictionary of unique values of Offence Level 2 to ease answering the questions\n",
    "\n",
    "for i in range(len(uniqueVal2)):\n",
    "    uniqueVal2dict[uniqueVal2[i]] = count2[i]\n",
    "\n",
    "print(uniqueVal2)\n",
    "print(count2)\n",
    "print(uniqueVal2dict)"
   ]
  },
  {
   "cell_type": "markdown",
   "metadata": {},
   "source": [
    "1. How many unique values does \"Offence Level 2 Description\" column take? Display the unique values of level 2 offences together with their counts (i.e., how many times they have been repeated)."
   ]
  },
  {
   "cell_type": "code",
   "execution_count": 17,
   "metadata": {},
   "outputs": [
    {
     "name": "stdout",
     "output_type": "stream",
     "text": [
      "9\n",
      "ACTS INTENDED TO CAUSE INJURY :  63747\n",
      "FRAUD DECEPTION AND RELATED OFFENCES :  11644\n",
      "HOMICIDE AND RELATED OFFENCES :  226\n",
      "OTHER OFFENCES AGAINST THE PERSON :  12327\n",
      "PROPERTY DAMAGE AND ENVIRONMENTAL :  80047\n",
      "ROBBERY AND RELATED OFFENCES :  2607\n",
      "SERIOUS CRIMINAL TRESPASS :  53888\n",
      "SEXUAL ASSAULT AND RELATED OFFENCES :  7884\n",
      "THEFT AND RELATED OFFENCES :  152926\n"
     ]
    }
   ],
   "source": [
    "print(len(uniqueVal2dict))\n",
    "for key in uniqueVal2dict:\n",
    "    print(key,\": \",uniqueVal2dict[key])"
   ]
  },
  {
   "cell_type": "markdown",
   "metadata": {},
   "source": [
    "2. How many serious criminal trespasses have occurred with more than 1 offence count?"
   ]
  },
  {
   "cell_type": "markdown",
   "metadata": {},
   "source": [
    "To count how many serious criminal trespasses have occurred with more than 1 offence count, we can first filter our data for specifying the Offence Level 2 Description's value as serious criminal trespass. Then, we filter the data again to get more than 1 of offence count. To know how many serious criminal trespasses have occurred with more than 1 offence count, we use shape function."
   ]
  },
  {
   "cell_type": "code",
   "execution_count": 18,
   "metadata": {},
   "outputs": [
    {
     "name": "stdout",
     "output_type": "stream",
     "text": [
      "4198\n"
     ]
    }
   ],
   "source": [
    "filt = (crime['Offence Level 2 Description'] == 'SERIOUS CRIMINAL TRESPASS')\n",
    "crimeFilt = crime[filt]\n",
    "filt = (crimeFilt['Offence Count'] > 1)\n",
    "crimeFilt = crimeFilt[filt]\n",
    "count = crimeFilt.shape\n",
    "print(count[0])"
   ]
  },
  {
   "cell_type": "markdown",
   "metadata": {},
   "source": [
    "### Task B: Investigating Offence Count in different suburbs and different years\n",
    "In the task, you are required to visualise the relationship between the number of crimes in different suburbs and different years and exploring the relationship. Note: higher marks will be given to reports containing graphs with appropriately labelled axes, title and legend.\n",
    "\n",
    "#### B1. Investigating the number of crimes per year\n",
    "Find the number of crimes per year. Plot the graph and explain your understanding of the graph.\n"
   ]
  },
  {
   "cell_type": "code",
   "execution_count": 19,
   "metadata": {},
   "outputs": [],
   "source": [
    "crime['Year'] = crime['Reported Date'].dt.year #Extracting 'year' from column \"Reported Date\""
   ]
  },
  {
   "cell_type": "code",
   "execution_count": 20,
   "metadata": {},
   "outputs": [],
   "source": [
    "fun = {'Year':{'Frequency':'count'}}"
   ]
  },
  {
   "cell_type": "code",
   "execution_count": 21,
   "metadata": {},
   "outputs": [
    {
     "name": "stderr",
     "output_type": "stream",
     "text": [
      "C:\\Users\\DELL\\Anaconda3\\lib\\site-packages\\pandas\\core\\groupby\\generic.py:1315: FutureWarning: using a dict with renaming is deprecated and will be removed in a future version\n",
      "  return super(DataFrameGroupBy, self).aggregate(arg, *args, **kwargs)\n"
     ]
    },
    {
     "data": {
      "text/html": [
       "<div>\n",
       "<style scoped>\n",
       "    .dataframe tbody tr th:only-of-type {\n",
       "        vertical-align: middle;\n",
       "    }\n",
       "\n",
       "    .dataframe tbody tr th {\n",
       "        vertical-align: top;\n",
       "    }\n",
       "\n",
       "    .dataframe thead tr th {\n",
       "        text-align: left;\n",
       "    }\n",
       "\n",
       "    .dataframe thead tr:last-of-type th {\n",
       "        text-align: right;\n",
       "    }\n",
       "</style>\n",
       "<table border=\"1\" class=\"dataframe\">\n",
       "  <thead>\n",
       "    <tr>\n",
       "      <th></th>\n",
       "      <th>Year</th>\n",
       "    </tr>\n",
       "    <tr>\n",
       "      <th></th>\n",
       "      <th>Frequency</th>\n",
       "    </tr>\n",
       "    <tr>\n",
       "      <th>Year</th>\n",
       "      <th></th>\n",
       "    </tr>\n",
       "  </thead>\n",
       "  <tbody>\n",
       "    <tr>\n",
       "      <th>2014</th>\n",
       "      <td>87681</td>\n",
       "    </tr>\n",
       "    <tr>\n",
       "      <th>2015</th>\n",
       "      <td>90963</td>\n",
       "    </tr>\n",
       "    <tr>\n",
       "      <th>2016</th>\n",
       "      <td>92063</td>\n",
       "    </tr>\n",
       "    <tr>\n",
       "      <th>2017</th>\n",
       "      <td>42976</td>\n",
       "    </tr>\n",
       "    <tr>\n",
       "      <th>2018</th>\n",
       "      <td>47696</td>\n",
       "    </tr>\n",
       "    <tr>\n",
       "      <th>2019</th>\n",
       "      <td>23917</td>\n",
       "    </tr>\n",
       "  </tbody>\n",
       "</table>\n",
       "</div>"
      ],
      "text/plain": [
       "          Year\n",
       "     Frequency\n",
       "Year          \n",
       "2014     87681\n",
       "2015     90963\n",
       "2016     92063\n",
       "2017     42976\n",
       "2018     47696\n",
       "2019     23917"
      ]
     },
     "execution_count": 21,
     "metadata": {},
     "output_type": "execute_result"
    }
   ],
   "source": [
    "groupbyYear = crime.groupby('Year').agg(fun)\n",
    "groupbyYear"
   ]
  },
  {
   "cell_type": "code",
   "execution_count": 22,
   "metadata": {},
   "outputs": [
    {
     "data": {
      "text/plain": [
       "Text(0.5, 1.0, 'Number of Crimes Per Year (2014-2019)')"
      ]
     },
     "execution_count": 22,
     "metadata": {},
     "output_type": "execute_result"
    },
    {
     "data": {
      "image/png": "[encoded data removed]",
      "text/plain": [
       "<Figure size 576x360 with 1 Axes>"
      ]
     },
     "metadata": {
      "needs_background": "light"
     },
     "output_type": "display_data"
    }
   ],
   "source": [
    "ax = groupbyYear.plot.bar(figsize=(8,5))\n",
    "plt.xlabel('Year')\n",
    "plt.ylabel('Frequency')\n",
    "plt.title('Number of Crimes Per Year (2014-2019)')"
   ]
  },
  {
   "cell_type": "markdown",
   "metadata": {},
   "source": [
    "Graph above represents the number of crimes occur per year from 2014 to 2019. Although for the first 3 years (2014-2016), the number of crimes increased, there is a remarkable drop from 92063 crimes in 2016 to 42976 crimes in 2017. In addition to this, even though there is a slight increase of number of crimes in 2018, the number of crimes in 2019 decreased up to 50%."
   ]
  },
  {
   "cell_type": "markdown",
   "metadata": {},
   "source": [
    "#### B2. Investigating the total number of crimes in different suburbs\n",
    "1. Compute the total number of crimes in each suburb and plot a histogram of the total number of crimes in different suburbs\n"
   ]
  },
  {
   "cell_type": "code",
   "execution_count": 23,
   "metadata": {},
   "outputs": [],
   "source": [
    "#We first aggregate the data then flatten it.\n",
    "fun = {'Suburb - Incident':{'Frequency':'count'}}"
   ]
  },
  {
   "cell_type": "code",
   "execution_count": 24,
   "metadata": {},
   "outputs": [
    {
     "data": {
      "text/html": [
       "<div>\n",
       "<style scoped>\n",
       "    .dataframe tbody tr th:only-of-type {\n",
       "        vertical-align: middle;\n",
       "    }\n",
       "\n",
       "    .dataframe tbody tr th {\n",
       "        vertical-align: top;\n",
       "    }\n",
       "\n",
       "    .dataframe thead th {\n",
       "        text-align: right;\n",
       "    }\n",
       "</style>\n",
       "<table border=\"1\" class=\"dataframe\">\n",
       "  <thead>\n",
       "    <tr style=\"text-align: right;\">\n",
       "      <th></th>\n",
       "      <th>Suburb Name</th>\n",
       "      <th>Frequency</th>\n",
       "    </tr>\n",
       "  </thead>\n",
       "  <tbody>\n",
       "    <tr>\n",
       "      <th>0</th>\n",
       "      <td>ABERFOYLE PARK</td>\n",
       "      <td>1183</td>\n",
       "    </tr>\n",
       "    <tr>\n",
       "      <th>1</th>\n",
       "      <td>ADDRESS UNKNOWN</td>\n",
       "      <td>83</td>\n",
       "    </tr>\n",
       "    <tr>\n",
       "      <th>2</th>\n",
       "      <td>ADELAIDE</td>\n",
       "      <td>11642</td>\n",
       "    </tr>\n",
       "    <tr>\n",
       "      <th>3</th>\n",
       "      <td>ADELAIDE AIRPORT</td>\n",
       "      <td>614</td>\n",
       "    </tr>\n",
       "    <tr>\n",
       "      <th>4</th>\n",
       "      <td>AGERY</td>\n",
       "      <td>5</td>\n",
       "    </tr>\n",
       "  </tbody>\n",
       "</table>\n",
       "</div>"
      ],
      "text/plain": [
       "        Suburb Name  Frequency\n",
       "0    ABERFOYLE PARK       1183\n",
       "1   ADDRESS UNKNOWN         83\n",
       "2          ADELAIDE      11642\n",
       "3  ADELAIDE AIRPORT        614\n",
       "4             AGERY          5"
      ]
     },
     "execution_count": 24,
     "metadata": {},
     "output_type": "execute_result"
    }
   ],
   "source": [
    "groupbySuburb = crime.groupby('Suburb - Incident').agg(fun)\n",
    "groupbySuburb = groupbySuburb.reset_index() #turn 'Suburb - Incident' groups into column values\n",
    "groupbySuburb.columns = groupbySuburb.columns.droplevel(0) #drop the top level in the column hierarchy\n",
    "groupbySuburb.rename(columns = {'':'Suburb Name'},inplace = True) #rename the first column to be 'Suburb Name'\n",
    "groupbySuburb.head()"
   ]
  },
  {
   "cell_type": "code",
   "execution_count": 25,
   "metadata": {},
   "outputs": [
    {
     "data": {
      "text/plain": [
       "Text(0, 0.5, '# of Suburbs')"
      ]
     },
     "execution_count": 25,
     "metadata": {},
     "output_type": "execute_result"
    },
    {
     "data": {
      "image/png": "[encoded data removed]",
      "text/plain": [
       "<Figure size 432x288 with 1 Axes>"
      ]
     },
     "metadata": {
      "needs_background": "light"
     },
     "output_type": "display_data"
    }
   ],
   "source": [
    "groupbySuburb['Frequency'].hist(bins=10)\n",
    "plt.xlim(0,10000)               \n",
    "plt.ylim(0,1750)\n",
    "plt.xlabel('Frequency of Crimes')\n",
    "plt.ylabel('# of Suburbs')"
   ]
  },
  {
   "cell_type": "markdown",
   "metadata": {},
   "source": [
    "2. Consider the shape of the histogram, what can you tell? Compare the mean and median values of the plotted histogram."
   ]
  },
  {
   "cell_type": "code",
   "execution_count": 26,
   "metadata": {},
   "outputs": [
    {
     "data": {
      "text/plain": [
       "mean    236.716042\n",
       "50%      13.000000\n",
       "Name: Frequency, dtype: float64"
      ]
     },
     "execution_count": 26,
     "metadata": {},
     "output_type": "execute_result"
    }
   ],
   "source": [
    "groupbySuburb['Frequency'].describe()[['mean','50%']]"
   ]
  },
  {
   "cell_type": "markdown",
   "metadata": {},
   "source": [
    "The shape of histogram is skewed right (mean > median). This happens because the number of suburbs has a few large values that drive the mean upward yet do not affect the position of median. From here, we can conclude that the frequency of crimes in most of the suburbs is low compared to the rest of the suburbs."
   ]
  },
  {
   "cell_type": "markdown",
   "metadata": {},
   "source": [
    "3. In which suburbs the total number of crimes are greater than 5000? Plot the total number of crimes in the suburbs with the highest number of crimes (greater than 5000) using a bar chart."
   ]
  },
  {
   "cell_type": "code",
   "execution_count": 27,
   "metadata": {},
   "outputs": [
    {
     "data": {
      "text/html": [
       "<div>\n",
       "<style scoped>\n",
       "    .dataframe tbody tr th:only-of-type {\n",
       "        vertical-align: middle;\n",
       "    }\n",
       "\n",
       "    .dataframe tbody tr th {\n",
       "        vertical-align: top;\n",
       "    }\n",
       "\n",
       "    .dataframe thead th {\n",
       "        text-align: right;\n",
       "    }\n",
       "</style>\n",
       "<table border=\"1\" class=\"dataframe\">\n",
       "  <thead>\n",
       "    <tr style=\"text-align: right;\">\n",
       "      <th></th>\n",
       "      <th>Suburb Name</th>\n",
       "      <th>Frequency</th>\n",
       "    </tr>\n",
       "  </thead>\n",
       "  <tbody>\n",
       "    <tr>\n",
       "      <th>2</th>\n",
       "      <td>ADELAIDE</td>\n",
       "      <td>11642</td>\n",
       "    </tr>\n",
       "    <tr>\n",
       "      <th>879</th>\n",
       "      <td>MORPHETT VALE</td>\n",
       "      <td>5133</td>\n",
       "    </tr>\n",
       "    <tr>\n",
       "      <th>895</th>\n",
       "      <td>MOUNT GAMBIER</td>\n",
       "      <td>5031</td>\n",
       "    </tr>\n",
       "    <tr>\n",
       "      <th>930</th>\n",
       "      <td>MURRAY BRIDGE</td>\n",
       "      <td>5158</td>\n",
       "    </tr>\n",
       "    <tr>\n",
       "      <th>994</th>\n",
       "      <td>NOT DISCLOSED</td>\n",
       "      <td>6458</td>\n",
       "    </tr>\n",
       "    <tr>\n",
       "      <th>1126</th>\n",
       "      <td>PORT AUGUSTA</td>\n",
       "      <td>5174</td>\n",
       "    </tr>\n",
       "  </tbody>\n",
       "</table>\n",
       "</div>"
      ],
      "text/plain": [
       "        Suburb Name  Frequency\n",
       "2          ADELAIDE      11642\n",
       "879   MORPHETT VALE       5133\n",
       "895   MOUNT GAMBIER       5031\n",
       "930   MURRAY BRIDGE       5158\n",
       "994   NOT DISCLOSED       6458\n",
       "1126   PORT AUGUSTA       5174"
      ]
     },
     "execution_count": 27,
     "metadata": {},
     "output_type": "execute_result"
    }
   ],
   "source": [
    "filt = ((groupbySuburb['Frequency'] > 5000)) #filtering the suburbs that have total number of crimes > 5000\n",
    "greatCrime = groupbySuburb[filt]\n",
    "greatCrime"
   ]
  },
  {
   "cell_type": "code",
   "execution_count": 28,
   "metadata": {},
   "outputs": [
    {
     "data": {
      "text/plain": [
       "Text(0.5, 1.0, 'Highest Number of Crimes')"
      ]
     },
     "execution_count": 28,
     "metadata": {},
     "output_type": "execute_result"
    },
    {
     "data": {
      "image/png": "[encoded data removed]",
      "text/plain": [
       "<Figure size 432x288 with 1 Axes>"
      ]
     },
     "metadata": {
      "needs_background": "light"
     },
     "output_type": "display_data"
    }
   ],
   "source": [
    "x_pos = np.arange(len(greatCrime['Suburb Name']))\n",
    "plt.bar(x_pos, greatCrime['Frequency'])\n",
    "\n",
    "#use the plt.xticks function to custom labels\n",
    "plt.xticks(x_pos, greatCrime['Suburb Name'], rotation = 90)\n",
    "\n",
    "#customing label for the graph\n",
    "plt.xlabel('Suburb Name')\n",
    "plt.ylabel('Frequency')\n",
    "plt.title('Highest Number of Crimes')"
   ]
  },
  {
   "cell_type": "markdown",
   "metadata": {},
   "source": [
    "#### B3. Daily number of crimes\n",
    "1. For each suburb, calculate the number of days that at least 15 crimes have occurred per day. (Note: your answer should contain all suburbs in the dataset together with a valueshowing the number of days that at least 15 crimes have happened)"
   ]
  },
  {
   "cell_type": "code",
   "execution_count": 29,
   "metadata": {},
   "outputs": [
    {
     "data": {
      "text/html": [
       "<div>\n",
       "<style scoped>\n",
       "    .dataframe tbody tr th:only-of-type {\n",
       "        vertical-align: middle;\n",
       "    }\n",
       "\n",
       "    .dataframe tbody tr th {\n",
       "        vertical-align: top;\n",
       "    }\n",
       "\n",
       "    .dataframe thead th {\n",
       "        text-align: right;\n",
       "    }\n",
       "</style>\n",
       "<table border=\"1\" class=\"dataframe\">\n",
       "  <thead>\n",
       "    <tr style=\"text-align: right;\">\n",
       "      <th></th>\n",
       "      <th>Reported Date</th>\n",
       "      <th>Suburb - Incident</th>\n",
       "      <th>Frequency</th>\n",
       "    </tr>\n",
       "  </thead>\n",
       "  <tbody>\n",
       "    <tr>\n",
       "      <th>0</th>\n",
       "      <td>2014-01-01</td>\n",
       "      <td>ADELAIDE</td>\n",
       "      <td>22.0</td>\n",
       "    </tr>\n",
       "    <tr>\n",
       "      <th>182</th>\n",
       "      <td>2014-01-02</td>\n",
       "      <td>ADELAIDE</td>\n",
       "      <td>15.0</td>\n",
       "    </tr>\n",
       "    <tr>\n",
       "      <th>317</th>\n",
       "      <td>2014-01-03</td>\n",
       "      <td>ADELAIDE</td>\n",
       "      <td>22.0</td>\n",
       "    </tr>\n",
       "    <tr>\n",
       "      <th>462</th>\n",
       "      <td>2014-01-04</td>\n",
       "      <td>ADELAIDE</td>\n",
       "      <td>17.0</td>\n",
       "    </tr>\n",
       "    <tr>\n",
       "      <th>775</th>\n",
       "      <td>2014-01-06</td>\n",
       "      <td>ADELAIDE</td>\n",
       "      <td>26.0</td>\n",
       "    </tr>\n",
       "    <tr>\n",
       "      <th>911</th>\n",
       "      <td>2014-01-07</td>\n",
       "      <td>ADELAIDE</td>\n",
       "      <td>16.0</td>\n",
       "    </tr>\n",
       "    <tr>\n",
       "      <th>1079</th>\n",
       "      <td>2014-01-08</td>\n",
       "      <td>ADELAIDE</td>\n",
       "      <td>19.0</td>\n",
       "    </tr>\n",
       "    <tr>\n",
       "      <th>1232</th>\n",
       "      <td>2014-01-09</td>\n",
       "      <td>ADELAIDE</td>\n",
       "      <td>22.0</td>\n",
       "    </tr>\n",
       "    <tr>\n",
       "      <th>1880</th>\n",
       "      <td>2014-01-13</td>\n",
       "      <td>ADELAIDE</td>\n",
       "      <td>23.0</td>\n",
       "    </tr>\n",
       "    <tr>\n",
       "      <th>2930</th>\n",
       "      <td>2014-01-20</td>\n",
       "      <td>ADELAIDE</td>\n",
       "      <td>20.0</td>\n",
       "    </tr>\n",
       "    <tr>\n",
       "      <th>3039</th>\n",
       "      <td>2014-01-20</td>\n",
       "      <td>NURIOOTPA</td>\n",
       "      <td>19.0</td>\n",
       "    </tr>\n",
       "    <tr>\n",
       "      <th>3398</th>\n",
       "      <td>2014-01-23</td>\n",
       "      <td>ADELAIDE</td>\n",
       "      <td>16.0</td>\n",
       "    </tr>\n",
       "    <tr>\n",
       "      <th>3684</th>\n",
       "      <td>2014-01-25</td>\n",
       "      <td>ADELAIDE</td>\n",
       "      <td>23.0</td>\n",
       "    </tr>\n",
       "    <tr>\n",
       "      <th>3830</th>\n",
       "      <td>2014-01-26</td>\n",
       "      <td>ADELAIDE</td>\n",
       "      <td>27.0</td>\n",
       "    </tr>\n",
       "    <tr>\n",
       "      <th>3987</th>\n",
       "      <td>2014-01-27</td>\n",
       "      <td>ADELAIDE</td>\n",
       "      <td>20.0</td>\n",
       "    </tr>\n",
       "    <tr>\n",
       "      <th>4309</th>\n",
       "      <td>2014-01-29</td>\n",
       "      <td>ADELAIDE</td>\n",
       "      <td>17.0</td>\n",
       "    </tr>\n",
       "    <tr>\n",
       "      <th>4968</th>\n",
       "      <td>2014-02-02</td>\n",
       "      <td>ADELAIDE</td>\n",
       "      <td>15.0</td>\n",
       "    </tr>\n",
       "    <tr>\n",
       "      <th>5104</th>\n",
       "      <td>2014-02-03</td>\n",
       "      <td>ADELAIDE</td>\n",
       "      <td>21.0</td>\n",
       "    </tr>\n",
       "    <tr>\n",
       "      <th>5415</th>\n",
       "      <td>2014-02-05</td>\n",
       "      <td>ADELAIDE</td>\n",
       "      <td>15.0</td>\n",
       "    </tr>\n",
       "    <tr>\n",
       "      <th>5574</th>\n",
       "      <td>2014-02-06</td>\n",
       "      <td>ADELAIDE</td>\n",
       "      <td>15.0</td>\n",
       "    </tr>\n",
       "    <tr>\n",
       "      <th>5746</th>\n",
       "      <td>2014-02-07</td>\n",
       "      <td>ADELAIDE</td>\n",
       "      <td>25.0</td>\n",
       "    </tr>\n",
       "    <tr>\n",
       "      <th>6016</th>\n",
       "      <td>2014-02-09</td>\n",
       "      <td>ADELAIDE</td>\n",
       "      <td>19.0</td>\n",
       "    </tr>\n",
       "    <tr>\n",
       "      <th>6324</th>\n",
       "      <td>2014-02-11</td>\n",
       "      <td>ADELAIDE</td>\n",
       "      <td>25.0</td>\n",
       "    </tr>\n",
       "    <tr>\n",
       "      <th>6472</th>\n",
       "      <td>2014-02-12</td>\n",
       "      <td>ADELAIDE</td>\n",
       "      <td>15.0</td>\n",
       "    </tr>\n",
       "    <tr>\n",
       "      <th>6923</th>\n",
       "      <td>2014-02-15</td>\n",
       "      <td>ADELAIDE</td>\n",
       "      <td>22.0</td>\n",
       "    </tr>\n",
       "    <tr>\n",
       "      <th>7078</th>\n",
       "      <td>2014-02-16</td>\n",
       "      <td>ADELAIDE</td>\n",
       "      <td>17.0</td>\n",
       "    </tr>\n",
       "    <tr>\n",
       "      <th>7220</th>\n",
       "      <td>2014-02-17</td>\n",
       "      <td>ADELAIDE</td>\n",
       "      <td>20.0</td>\n",
       "    </tr>\n",
       "    <tr>\n",
       "      <th>7403</th>\n",
       "      <td>2014-02-18</td>\n",
       "      <td>ADELAIDE</td>\n",
       "      <td>17.0</td>\n",
       "    </tr>\n",
       "    <tr>\n",
       "      <th>8313</th>\n",
       "      <td>2014-02-24</td>\n",
       "      <td>ADELAIDE</td>\n",
       "      <td>18.0</td>\n",
       "    </tr>\n",
       "    <tr>\n",
       "      <th>8653</th>\n",
       "      <td>2014-02-26</td>\n",
       "      <td>ADELAIDE</td>\n",
       "      <td>15.0</td>\n",
       "    </tr>\n",
       "    <tr>\n",
       "      <th>...</th>\n",
       "      <td>...</td>\n",
       "      <td>...</td>\n",
       "      <td>...</td>\n",
       "    </tr>\n",
       "    <tr>\n",
       "      <th>235947</th>\n",
       "      <td>2019-03-22</td>\n",
       "      <td>ADELAIDE</td>\n",
       "      <td>23.0</td>\n",
       "    </tr>\n",
       "    <tr>\n",
       "      <th>236129</th>\n",
       "      <td>2019-03-23</td>\n",
       "      <td>ADELAIDE</td>\n",
       "      <td>20.0</td>\n",
       "    </tr>\n",
       "    <tr>\n",
       "      <th>236273</th>\n",
       "      <td>2019-03-24</td>\n",
       "      <td>ADELAIDE</td>\n",
       "      <td>19.0</td>\n",
       "    </tr>\n",
       "    <tr>\n",
       "      <th>236425</th>\n",
       "      <td>2019-03-25</td>\n",
       "      <td>ADELAIDE</td>\n",
       "      <td>18.0</td>\n",
       "    </tr>\n",
       "    <tr>\n",
       "      <th>236628</th>\n",
       "      <td>2019-03-26</td>\n",
       "      <td>ADELAIDE</td>\n",
       "      <td>16.0</td>\n",
       "    </tr>\n",
       "    <tr>\n",
       "      <th>236800</th>\n",
       "      <td>2019-03-27</td>\n",
       "      <td>ADELAIDE</td>\n",
       "      <td>20.0</td>\n",
       "    </tr>\n",
       "    <tr>\n",
       "      <th>236966</th>\n",
       "      <td>2019-03-28</td>\n",
       "      <td>ADELAIDE</td>\n",
       "      <td>24.0</td>\n",
       "    </tr>\n",
       "    <tr>\n",
       "      <th>237142</th>\n",
       "      <td>2019-03-29</td>\n",
       "      <td>ADELAIDE</td>\n",
       "      <td>27.0</td>\n",
       "    </tr>\n",
       "    <tr>\n",
       "      <th>237305</th>\n",
       "      <td>2019-03-30</td>\n",
       "      <td>ADELAIDE</td>\n",
       "      <td>24.0</td>\n",
       "    </tr>\n",
       "    <tr>\n",
       "      <th>237450</th>\n",
       "      <td>2019-03-31</td>\n",
       "      <td>ADELAIDE</td>\n",
       "      <td>30.0</td>\n",
       "    </tr>\n",
       "    <tr>\n",
       "      <th>237594</th>\n",
       "      <td>2019-04-01</td>\n",
       "      <td>ADELAIDE</td>\n",
       "      <td>23.0</td>\n",
       "    </tr>\n",
       "    <tr>\n",
       "      <th>238301</th>\n",
       "      <td>2019-05-02</td>\n",
       "      <td>ADELAIDE</td>\n",
       "      <td>19.0</td>\n",
       "    </tr>\n",
       "    <tr>\n",
       "      <th>238463</th>\n",
       "      <td>2019-05-03</td>\n",
       "      <td>ADELAIDE</td>\n",
       "      <td>16.0</td>\n",
       "    </tr>\n",
       "    <tr>\n",
       "      <th>239131</th>\n",
       "      <td>2019-07-01</td>\n",
       "      <td>ADELAIDE</td>\n",
       "      <td>18.0</td>\n",
       "    </tr>\n",
       "    <tr>\n",
       "      <th>239322</th>\n",
       "      <td>2019-07-02</td>\n",
       "      <td>ADELAIDE</td>\n",
       "      <td>18.0</td>\n",
       "    </tr>\n",
       "    <tr>\n",
       "      <th>239494</th>\n",
       "      <td>2019-07-03</td>\n",
       "      <td>ADELAIDE</td>\n",
       "      <td>20.0</td>\n",
       "    </tr>\n",
       "    <tr>\n",
       "      <th>239644</th>\n",
       "      <td>2019-08-01</td>\n",
       "      <td>ADELAIDE</td>\n",
       "      <td>15.0</td>\n",
       "    </tr>\n",
       "    <tr>\n",
       "      <th>239826</th>\n",
       "      <td>2019-08-02</td>\n",
       "      <td>ADELAIDE</td>\n",
       "      <td>16.0</td>\n",
       "    </tr>\n",
       "    <tr>\n",
       "      <th>240073</th>\n",
       "      <td>2019-08-03</td>\n",
       "      <td>MURRAY BRIDGE</td>\n",
       "      <td>15.0</td>\n",
       "    </tr>\n",
       "    <tr>\n",
       "      <th>240144</th>\n",
       "      <td>2019-09-01</td>\n",
       "      <td>ADELAIDE</td>\n",
       "      <td>18.0</td>\n",
       "    </tr>\n",
       "    <tr>\n",
       "      <th>240305</th>\n",
       "      <td>2019-09-02</td>\n",
       "      <td>ADELAIDE</td>\n",
       "      <td>17.0</td>\n",
       "    </tr>\n",
       "    <tr>\n",
       "      <th>240460</th>\n",
       "      <td>2019-09-03</td>\n",
       "      <td>ADELAIDE</td>\n",
       "      <td>17.0</td>\n",
       "    </tr>\n",
       "    <tr>\n",
       "      <th>240734</th>\n",
       "      <td>2019-10-01</td>\n",
       "      <td>PORT LINCOLN</td>\n",
       "      <td>17.0</td>\n",
       "    </tr>\n",
       "    <tr>\n",
       "      <th>240784</th>\n",
       "      <td>2019-10-02</td>\n",
       "      <td>ADELAIDE</td>\n",
       "      <td>15.0</td>\n",
       "    </tr>\n",
       "    <tr>\n",
       "      <th>240953</th>\n",
       "      <td>2019-10-03</td>\n",
       "      <td>ADELAIDE</td>\n",
       "      <td>21.0</td>\n",
       "    </tr>\n",
       "    <tr>\n",
       "      <th>241093</th>\n",
       "      <td>2019-11-01</td>\n",
       "      <td>ADELAIDE</td>\n",
       "      <td>16.0</td>\n",
       "    </tr>\n",
       "    <tr>\n",
       "      <th>241256</th>\n",
       "      <td>2019-11-02</td>\n",
       "      <td>ADELAIDE</td>\n",
       "      <td>18.0</td>\n",
       "    </tr>\n",
       "    <tr>\n",
       "      <th>241593</th>\n",
       "      <td>2019-12-01</td>\n",
       "      <td>ADELAIDE</td>\n",
       "      <td>16.0</td>\n",
       "    </tr>\n",
       "    <tr>\n",
       "      <th>241754</th>\n",
       "      <td>2019-12-02</td>\n",
       "      <td>ADELAIDE</td>\n",
       "      <td>17.0</td>\n",
       "    </tr>\n",
       "    <tr>\n",
       "      <th>241933</th>\n",
       "      <td>2019-12-03</td>\n",
       "      <td>ADELAIDE</td>\n",
       "      <td>18.0</td>\n",
       "    </tr>\n",
       "  </tbody>\n",
       "</table>\n",
       "<p>919 rows × 3 columns</p>\n",
       "</div>"
      ],
      "text/plain": [
       "       Reported Date Suburb - Incident  Frequency\n",
       "0         2014-01-01          ADELAIDE       22.0\n",
       "182       2014-01-02          ADELAIDE       15.0\n",
       "317       2014-01-03          ADELAIDE       22.0\n",
       "462       2014-01-04          ADELAIDE       17.0\n",
       "775       2014-01-06          ADELAIDE       26.0\n",
       "911       2014-01-07          ADELAIDE       16.0\n",
       "1079      2014-01-08          ADELAIDE       19.0\n",
       "1232      2014-01-09          ADELAIDE       22.0\n",
       "1880      2014-01-13          ADELAIDE       23.0\n",
       "2930      2014-01-20          ADELAIDE       20.0\n",
       "3039      2014-01-20         NURIOOTPA       19.0\n",
       "3398      2014-01-23          ADELAIDE       16.0\n",
       "3684      2014-01-25          ADELAIDE       23.0\n",
       "3830      2014-01-26          ADELAIDE       27.0\n",
       "3987      2014-01-27          ADELAIDE       20.0\n",
       "4309      2014-01-29          ADELAIDE       17.0\n",
       "4968      2014-02-02          ADELAIDE       15.0\n",
       "5104      2014-02-03          ADELAIDE       21.0\n",
       "5415      2014-02-05          ADELAIDE       15.0\n",
       "5574      2014-02-06          ADELAIDE       15.0\n",
       "5746      2014-02-07          ADELAIDE       25.0\n",
       "6016      2014-02-09          ADELAIDE       19.0\n",
       "6324      2014-02-11          ADELAIDE       25.0\n",
       "6472      2014-02-12          ADELAIDE       15.0\n",
       "6923      2014-02-15          ADELAIDE       22.0\n",
       "7078      2014-02-16          ADELAIDE       17.0\n",
       "7220      2014-02-17          ADELAIDE       20.0\n",
       "7403      2014-02-18          ADELAIDE       17.0\n",
       "8313      2014-02-24          ADELAIDE       18.0\n",
       "8653      2014-02-26          ADELAIDE       15.0\n",
       "...              ...               ...        ...\n",
       "235947    2019-03-22          ADELAIDE       23.0\n",
       "236129    2019-03-23          ADELAIDE       20.0\n",
       "236273    2019-03-24          ADELAIDE       19.0\n",
       "236425    2019-03-25          ADELAIDE       18.0\n",
       "236628    2019-03-26          ADELAIDE       16.0\n",
       "236800    2019-03-27          ADELAIDE       20.0\n",
       "236966    2019-03-28          ADELAIDE       24.0\n",
       "237142    2019-03-29          ADELAIDE       27.0\n",
       "237305    2019-03-30          ADELAIDE       24.0\n",
       "237450    2019-03-31          ADELAIDE       30.0\n",
       "237594    2019-04-01          ADELAIDE       23.0\n",
       "238301    2019-05-02          ADELAIDE       19.0\n",
       "238463    2019-05-03          ADELAIDE       16.0\n",
       "239131    2019-07-01          ADELAIDE       18.0\n",
       "239322    2019-07-02          ADELAIDE       18.0\n",
       "239494    2019-07-03          ADELAIDE       20.0\n",
       "239644    2019-08-01          ADELAIDE       15.0\n",
       "239826    2019-08-02          ADELAIDE       16.0\n",
       "240073    2019-08-03     MURRAY BRIDGE       15.0\n",
       "240144    2019-09-01          ADELAIDE       18.0\n",
       "240305    2019-09-02          ADELAIDE       17.0\n",
       "240460    2019-09-03          ADELAIDE       17.0\n",
       "240734    2019-10-01      PORT LINCOLN       17.0\n",
       "240784    2019-10-02          ADELAIDE       15.0\n",
       "240953    2019-10-03          ADELAIDE       21.0\n",
       "241093    2019-11-01          ADELAIDE       16.0\n",
       "241256    2019-11-02          ADELAIDE       18.0\n",
       "241593    2019-12-01          ADELAIDE       16.0\n",
       "241754    2019-12-02          ADELAIDE       17.0\n",
       "241933    2019-12-03          ADELAIDE       18.0\n",
       "\n",
       "[919 rows x 3 columns]"
      ]
     },
     "execution_count": 29,
     "metadata": {},
     "output_type": "execute_result"
    }
   ],
   "source": [
    "groupbyDate = crime.groupby(['Reported Date', 'Suburb - Incident'])['Offence Count'].agg('sum')\n",
    "groupbyDate = groupbyDate.reset_index(name = 'Frequency')\n",
    "filt = groupbyDate['Frequency'] >= 15\n",
    "groupbyDate = groupbyDate[filt]\n",
    "groupbyDate"
   ]
  },
  {
   "cell_type": "markdown",
   "metadata": {},
   "source": [
    "2. Now which suburbs do have at least one day where the daily number of crimes are more than 15. Plot the number of days that at least 15 crimes have occurred for the suburbs you found in this step (step 2) using a bar graph."
   ]
  },
  {
   "cell_type": "code",
   "execution_count": 30,
   "metadata": {},
   "outputs": [
    {
     "data": {
      "text/html": [
       "<div>\n",
       "<style scoped>\n",
       "    .dataframe tbody tr th:only-of-type {\n",
       "        vertical-align: middle;\n",
       "    }\n",
       "\n",
       "    .dataframe tbody tr th {\n",
       "        vertical-align: top;\n",
       "    }\n",
       "\n",
       "    .dataframe thead th {\n",
       "        text-align: right;\n",
       "    }\n",
       "</style>\n",
       "<table border=\"1\" class=\"dataframe\">\n",
       "  <thead>\n",
       "    <tr style=\"text-align: right;\">\n",
       "      <th></th>\n",
       "      <th>Suburb - Incident</th>\n",
       "      <th>Frequency</th>\n",
       "    </tr>\n",
       "  </thead>\n",
       "  <tbody>\n",
       "    <tr>\n",
       "      <th>0</th>\n",
       "      <td>ADELAIDE</td>\n",
       "      <td>877</td>\n",
       "    </tr>\n",
       "  </tbody>\n",
       "</table>\n",
       "</div>"
      ],
      "text/plain": [
       "  Suburb - Incident  Frequency\n",
       "0          ADELAIDE        877"
      ]
     },
     "execution_count": 30,
     "metadata": {},
     "output_type": "execute_result"
    }
   ],
   "source": [
    "groupbySuburbTotal = groupbyDate.groupby('Suburb - Incident').size().reset_index(name = 'Frequency')\n",
    "filt = groupbySuburbTotal['Frequency'] > 15\n",
    "result = groupbySuburbTotal[filt]\n",
    "result"
   ]
  },
  {
   "cell_type": "markdown",
   "metadata": {},
   "source": [
    "From the table above we know that only Adelaide has at least one day where the daily number of crimes are more than 15."
   ]
  },
  {
   "cell_type": "code",
   "execution_count": 31,
   "metadata": {
    "scrolled": true
   },
   "outputs": [],
   "source": [
    "filt = groupbyDate['Suburb - Incident'] == 'ADELAIDE'\n",
    "groupbyDate = groupbyDate[filt]"
   ]
  },
  {
   "cell_type": "code",
   "execution_count": 32,
   "metadata": {},
   "outputs": [
    {
     "data": {
      "image/png": "[encoded data removed]",
      "text/plain": [
       "<Figure size 432x288 with 1 Axes>"
      ]
     },
     "metadata": {
      "needs_background": "light"
     },
     "output_type": "display_data"
    }
   ],
   "source": [
    "plt.bar(groupbyDate['Reported Date'],groupbyDate['Frequency'],width = 1)\n",
    "\n",
    "#customing label for the graph\n",
    "plt.xlabel('Reported Date')\n",
    "plt.ylabel('Frequency')\n",
    "plt.title('Number of Crimes in Adelaide from 2014 - 2019')\n",
    "\n",
    "plt.show()"
   ]
  },
  {
   "cell_type": "markdown",
   "metadata": {},
   "source": [
    "3. Use an appropriate graph to visualize and detect outliers (extreme values) on the data from step 2 and remove them. Then, plot the data again using a bar graph.\n",
    "\n",
    "To detect outliers, we can either use scatter plot or boxplot. For this question, we use boxplot to detect outliers."
   ]
  },
  {
   "cell_type": "code",
   "execution_count": 33,
   "metadata": {},
   "outputs": [
    {
     "data": {
      "text/plain": [
       "<matplotlib.axes._subplots.AxesSubplot at 0x20b776cb9b0>"
      ]
     },
     "execution_count": 33,
     "metadata": {},
     "output_type": "execute_result"
    },
    {
     "data": {
      "image/png": "[encoded data removed]",
      "text/plain": [
       "<Figure size 432x288 with 1 Axes>"
      ]
     },
     "metadata": {
      "needs_background": "light"
     },
     "output_type": "display_data"
    }
   ],
   "source": [
    "groupbyDate.boxplot(column = 'Frequency', by = 'Suburb - Incident')"
   ]
  },
  {
   "cell_type": "markdown",
   "metadata": {},
   "source": [
    "We can see from the graph above that the outliers are those greater than approximately 28 days."
   ]
  },
  {
   "cell_type": "code",
   "execution_count": 34,
   "metadata": {},
   "outputs": [],
   "source": [
    "filt = ~(groupbyDate['Frequency'] > 28)\n",
    "groupbyDate = groupbyDate[filt]"
   ]
  },
  {
   "cell_type": "code",
   "execution_count": 35,
   "metadata": {},
   "outputs": [
    {
     "data": {
      "image/png": "[encoded data removed]",
      "text/plain": [
       "<Figure size 432x288 with 1 Axes>"
      ]
     },
     "metadata": {
      "needs_background": "light"
     },
     "output_type": "display_data"
    }
   ],
   "source": [
    "plt.bar(groupbyDate['Reported Date'],groupbyDate['Frequency'],width = 1)\n",
    "\n",
    "#customing label for the graph\n",
    "plt.xlabel('Reported Date')\n",
    "plt.ylabel('Frequency')\n",
    "plt.title('Number of Crimes in Adelaide from 2014 - 2019')\n",
    "\n",
    "plt.show()"
   ]
  },
  {
   "cell_type": "markdown",
   "metadata": {},
   "source": [
    "4. Compare the bar graphs in step 2 and 3. Which bar graph is easier to interpret? Why?\n",
    "\n",
    "Bar graphs from step 3 is easier to interpret than the one in step 2 because:\n",
    "1.\tData can be said more accurate as the outliers will not hurt or affect the sample.\n",
    "2.\tThe y-axis of step 3’s graph only is up to 30 while step 2’s has wider range of y-axis."
   ]
  }
 ],
 "metadata": {
  "kernelspec": {
   "display_name": "Python 3",
   "language": "python",
   "name": "python3"
  },
  "language_info": {
   "codemirror_mode": {
    "name": "ipython",
    "version": 3
   },
   "file_extension": ".py",
   "mimetype": "text/x-python",
   "name": "python",
   "nbconvert_exporter": "python",
   "pygments_lexer": "ipython3",
   "version": "3.7.3"
  }
 },
 "nbformat": 4,
 "nbformat_minor": 2
}
